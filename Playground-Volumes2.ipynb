{
 "cells": [
  {
   "cell_type": "markdown",
   "metadata": {},
   "source": [
    "# Playground notebook for volume calculations"
   ]
  },
  {
   "cell_type": "code",
   "execution_count": 29,
   "metadata": {
    "collapsed": true
   },
   "outputs": [],
   "source": [
    "# imports\n",
    "import math as m\n",
    "import numpy as np\n",
    "import pandas as pd\n",
    "import pickle\n",
    "import os\n",
    "from scipy import integrate"
   ]
  },
  {
   "cell_type": "code",
   "execution_count": 2,
   "metadata": {},
   "outputs": [
    {
     "name": "stdout",
     "output_type": "stream",
     "text": [
      "Loding survey data\n"
     ]
    }
   ],
   "source": [
    "# creating dataframe from csv file\n",
    "print('Loding survey data')\n",
    "dfCoordinates = pd.read_csv('gpsDataUTM.csv') # reads data into dataframe"
   ]
  },
  {
   "cell_type": "code",
   "execution_count": 3,
   "metadata": {},
   "outputs": [
    {
     "data": {
      "text/html": [
       "<div>\n",
       "<style>\n",
       "    .dataframe thead tr:only-child th {\n",
       "        text-align: right;\n",
       "    }\n",
       "\n",
       "    .dataframe thead th {\n",
       "        text-align: left;\n",
       "    }\n",
       "\n",
       "    .dataframe tbody tr th {\n",
       "        vertical-align: top;\n",
       "    }\n",
       "</style>\n",
       "<table border=\"1\" class=\"dataframe\">\n",
       "  <thead>\n",
       "    <tr style=\"text-align: right;\">\n",
       "      <th></th>\n",
       "      <th>x</th>\n",
       "      <th>y</th>\n",
       "      <th>z</th>\n",
       "      <th>zoneLetter</th>\n",
       "      <th>zoneNumber</th>\n",
       "      <th>x_rel</th>\n",
       "      <th>y_rel</th>\n",
       "      <th>z_rel</th>\n",
       "    </tr>\n",
       "  </thead>\n",
       "  <tbody>\n",
       "    <tr>\n",
       "      <th>0</th>\n",
       "      <td>460564.162280</td>\n",
       "      <td>7.242060e+06</td>\n",
       "      <td>883.16</td>\n",
       "      <td>J</td>\n",
       "      <td>22.0</td>\n",
       "      <td>213.860510</td>\n",
       "      <td>127.527218</td>\n",
       "      <td>14.12</td>\n",
       "    </tr>\n",
       "    <tr>\n",
       "      <th>1</th>\n",
       "      <td>460564.002393</td>\n",
       "      <td>7.242060e+06</td>\n",
       "      <td>883.16</td>\n",
       "      <td>J</td>\n",
       "      <td>22.0</td>\n",
       "      <td>213.700623</td>\n",
       "      <td>127.211200</td>\n",
       "      <td>14.12</td>\n",
       "    </tr>\n",
       "    <tr>\n",
       "      <th>2</th>\n",
       "      <td>460564.321028</td>\n",
       "      <td>7.242032e+06</td>\n",
       "      <td>883.18</td>\n",
       "      <td>J</td>\n",
       "      <td>22.0</td>\n",
       "      <td>214.019258</td>\n",
       "      <td>98.792774</td>\n",
       "      <td>14.14</td>\n",
       "    </tr>\n",
       "    <tr>\n",
       "      <th>3</th>\n",
       "      <td>460564.563586</td>\n",
       "      <td>7.242003e+06</td>\n",
       "      <td>880.68</td>\n",
       "      <td>J</td>\n",
       "      <td>22.0</td>\n",
       "      <td>214.261816</td>\n",
       "      <td>70.346291</td>\n",
       "      <td>11.64</td>\n",
       "    </tr>\n",
       "    <tr>\n",
       "      <th>4</th>\n",
       "      <td>460567.438707</td>\n",
       "      <td>7.241978e+06</td>\n",
       "      <td>878.91</td>\n",
       "      <td>J</td>\n",
       "      <td>22.0</td>\n",
       "      <td>217.136937</td>\n",
       "      <td>44.608228</td>\n",
       "      <td>9.87</td>\n",
       "    </tr>\n",
       "  </tbody>\n",
       "</table>\n",
       "</div>"
      ],
      "text/plain": [
       "               x             y       z zoneLetter  zoneNumber       x_rel  \\\n",
       "0  460564.162280  7.242060e+06  883.16          J        22.0  213.860510   \n",
       "1  460564.002393  7.242060e+06  883.16          J        22.0  213.700623   \n",
       "2  460564.321028  7.242032e+06  883.18          J        22.0  214.019258   \n",
       "3  460564.563586  7.242003e+06  880.68          J        22.0  214.261816   \n",
       "4  460567.438707  7.241978e+06  878.91          J        22.0  217.136937   \n",
       "\n",
       "        y_rel  z_rel  \n",
       "0  127.527218  14.12  \n",
       "1  127.211200  14.12  \n",
       "2   98.792774  14.14  \n",
       "3   70.346291  11.64  \n",
       "4   44.608228   9.87  "
      ]
     },
     "execution_count": 3,
     "metadata": {},
     "output_type": "execute_result"
    }
   ],
   "source": [
    "dfCoordinates.head()"
   ]
  },
  {
   "cell_type": "code",
   "execution_count": 4,
   "metadata": {
    "collapsed": true
   },
   "outputs": [],
   "source": [
    "# Adding new info to dataframe: distance from origin (common reference to all points)\n",
    "def distanceFromOrigin(x,y,z):\n",
    "    # compute distance from origin <0,0,0>\n",
    "    point = np.array([x,y,z]) # place columns into an array <x,y,z>\n",
    "    origin = np.zeros(3) # create origin <0,0,0>\n",
    "    return np.linalg.norm(point-origin) # compute norm\n",
    "\n",
    "dfCoordinates['oDist'] = np.vectorize(distanceFromOrigin)(dfCoordinates['x_rel'],\n",
    "                                                          dfCoordinates['y_rel'],\n",
    "                                                          dfCoordinates['z_rel'])"
   ]
  },
  {
   "cell_type": "code",
   "execution_count": 5,
   "metadata": {},
   "outputs": [
    {
     "data": {
      "text/html": [
       "<div>\n",
       "<style>\n",
       "    .dataframe thead tr:only-child th {\n",
       "        text-align: right;\n",
       "    }\n",
       "\n",
       "    .dataframe thead th {\n",
       "        text-align: left;\n",
       "    }\n",
       "\n",
       "    .dataframe tbody tr th {\n",
       "        vertical-align: top;\n",
       "    }\n",
       "</style>\n",
       "<table border=\"1\" class=\"dataframe\">\n",
       "  <thead>\n",
       "    <tr style=\"text-align: right;\">\n",
       "      <th></th>\n",
       "      <th>x</th>\n",
       "      <th>y</th>\n",
       "      <th>z</th>\n",
       "      <th>zoneLetter</th>\n",
       "      <th>zoneNumber</th>\n",
       "      <th>x_rel</th>\n",
       "      <th>y_rel</th>\n",
       "      <th>z_rel</th>\n",
       "      <th>oDist</th>\n",
       "    </tr>\n",
       "  </thead>\n",
       "  <tbody>\n",
       "    <tr>\n",
       "      <th>0</th>\n",
       "      <td>460564.162280</td>\n",
       "      <td>7.242060e+06</td>\n",
       "      <td>883.16</td>\n",
       "      <td>J</td>\n",
       "      <td>22.0</td>\n",
       "      <td>213.860510</td>\n",
       "      <td>127.527218</td>\n",
       "      <td>14.12</td>\n",
       "      <td>249.397040</td>\n",
       "    </tr>\n",
       "    <tr>\n",
       "      <th>1</th>\n",
       "      <td>460564.002393</td>\n",
       "      <td>7.242060e+06</td>\n",
       "      <td>883.16</td>\n",
       "      <td>J</td>\n",
       "      <td>22.0</td>\n",
       "      <td>213.700623</td>\n",
       "      <td>127.211200</td>\n",
       "      <td>14.12</td>\n",
       "      <td>249.098414</td>\n",
       "    </tr>\n",
       "    <tr>\n",
       "      <th>2</th>\n",
       "      <td>460564.321028</td>\n",
       "      <td>7.242032e+06</td>\n",
       "      <td>883.18</td>\n",
       "      <td>J</td>\n",
       "      <td>22.0</td>\n",
       "      <td>214.019258</td>\n",
       "      <td>98.792774</td>\n",
       "      <td>14.14</td>\n",
       "      <td>236.144436</td>\n",
       "    </tr>\n",
       "    <tr>\n",
       "      <th>3</th>\n",
       "      <td>460564.563586</td>\n",
       "      <td>7.242003e+06</td>\n",
       "      <td>880.68</td>\n",
       "      <td>J</td>\n",
       "      <td>22.0</td>\n",
       "      <td>214.261816</td>\n",
       "      <td>70.346291</td>\n",
       "      <td>11.64</td>\n",
       "      <td>225.814562</td>\n",
       "    </tr>\n",
       "    <tr>\n",
       "      <th>4</th>\n",
       "      <td>460567.438707</td>\n",
       "      <td>7.241978e+06</td>\n",
       "      <td>878.91</td>\n",
       "      <td>J</td>\n",
       "      <td>22.0</td>\n",
       "      <td>217.136937</td>\n",
       "      <td>44.608228</td>\n",
       "      <td>9.87</td>\n",
       "      <td>221.891326</td>\n",
       "    </tr>\n",
       "  </tbody>\n",
       "</table>\n",
       "</div>"
      ],
      "text/plain": [
       "               x             y       z zoneLetter  zoneNumber       x_rel  \\\n",
       "0  460564.162280  7.242060e+06  883.16          J        22.0  213.860510   \n",
       "1  460564.002393  7.242060e+06  883.16          J        22.0  213.700623   \n",
       "2  460564.321028  7.242032e+06  883.18          J        22.0  214.019258   \n",
       "3  460564.563586  7.242003e+06  880.68          J        22.0  214.261816   \n",
       "4  460567.438707  7.241978e+06  878.91          J        22.0  217.136937   \n",
       "\n",
       "        y_rel  z_rel       oDist  \n",
       "0  127.527218  14.12  249.397040  \n",
       "1  127.211200  14.12  249.098414  \n",
       "2   98.792774  14.14  236.144436  \n",
       "3   70.346291  11.64  225.814562  \n",
       "4   44.608228   9.87  221.891326  "
      ]
     },
     "execution_count": 5,
     "metadata": {},
     "output_type": "execute_result"
    }
   ],
   "source": [
    "dfCoordinates.head()"
   ]
  },
  {
   "cell_type": "code",
   "execution_count": 6,
   "metadata": {
    "collapsed": true
   },
   "outputs": [],
   "source": [
    "# sorts accordint to distance from the origin.\n",
    "dfCoordinates = dfCoordinates.sort_values(by=['oDist'],\n",
    "                                          ascending=True)"
   ]
  },
  {
   "cell_type": "code",
   "execution_count": 11,
   "metadata": {},
   "outputs": [
    {
     "data": {
      "text/html": [
       "<div>\n",
       "<style>\n",
       "    .dataframe thead tr:only-child th {\n",
       "        text-align: right;\n",
       "    }\n",
       "\n",
       "    .dataframe thead th {\n",
       "        text-align: left;\n",
       "    }\n",
       "\n",
       "    .dataframe tbody tr th {\n",
       "        vertical-align: top;\n",
       "    }\n",
       "</style>\n",
       "<table border=\"1\" class=\"dataframe\">\n",
       "  <thead>\n",
       "    <tr style=\"text-align: right;\">\n",
       "      <th></th>\n",
       "      <th>x</th>\n",
       "      <th>y</th>\n",
       "      <th>z</th>\n",
       "      <th>zoneLetter</th>\n",
       "      <th>zoneNumber</th>\n",
       "      <th>x_rel</th>\n",
       "      <th>y_rel</th>\n",
       "      <th>z_rel</th>\n",
       "      <th>oDist</th>\n",
       "    </tr>\n",
       "  </thead>\n",
       "  <tbody>\n",
       "    <tr>\n",
       "      <th>19</th>\n",
       "      <td>460351.568925</td>\n",
       "      <td>7.241944e+06</td>\n",
       "      <td>877.68</td>\n",
       "      <td>J</td>\n",
       "      <td>22.0</td>\n",
       "      <td>1.267155</td>\n",
       "      <td>10.898245</td>\n",
       "      <td>8.64</td>\n",
       "      <td>13.965207</td>\n",
       "    </tr>\n",
       "    <tr>\n",
       "      <th>20</th>\n",
       "      <td>460350.322685</td>\n",
       "      <td>7.241947e+06</td>\n",
       "      <td>878.51</td>\n",
       "      <td>J</td>\n",
       "      <td>22.0</td>\n",
       "      <td>0.020915</td>\n",
       "      <td>14.597884</td>\n",
       "      <td>9.47</td>\n",
       "      <td>17.400562</td>\n",
       "    </tr>\n",
       "    <tr>\n",
       "      <th>18</th>\n",
       "      <td>460368.718418</td>\n",
       "      <td>7.241934e+06</td>\n",
       "      <td>876.81</td>\n",
       "      <td>J</td>\n",
       "      <td>22.0</td>\n",
       "      <td>18.416649</td>\n",
       "      <td>0.664109</td>\n",
       "      <td>7.77</td>\n",
       "      <td>19.999672</td>\n",
       "    </tr>\n",
       "    <tr>\n",
       "      <th>17</th>\n",
       "      <td>460370.150521</td>\n",
       "      <td>7.241933e+06</td>\n",
       "      <td>876.80</td>\n",
       "      <td>J</td>\n",
       "      <td>22.0</td>\n",
       "      <td>19.848751</td>\n",
       "      <td>0.000000</td>\n",
       "      <td>7.76</td>\n",
       "      <td>21.311746</td>\n",
       "    </tr>\n",
       "    <tr>\n",
       "      <th>72</th>\n",
       "      <td>460377.487691</td>\n",
       "      <td>7.241936e+06</td>\n",
       "      <td>880.45</td>\n",
       "      <td>J</td>\n",
       "      <td>22.0</td>\n",
       "      <td>27.185922</td>\n",
       "      <td>2.907675</td>\n",
       "      <td>11.41</td>\n",
       "      <td>29.626289</td>\n",
       "    </tr>\n",
       "  </tbody>\n",
       "</table>\n",
       "</div>"
      ],
      "text/plain": [
       "                x             y       z zoneLetter  zoneNumber      x_rel  \\\n",
       "19  460351.568925  7.241944e+06  877.68          J        22.0   1.267155   \n",
       "20  460350.322685  7.241947e+06  878.51          J        22.0   0.020915   \n",
       "18  460368.718418  7.241934e+06  876.81          J        22.0  18.416649   \n",
       "17  460370.150521  7.241933e+06  876.80          J        22.0  19.848751   \n",
       "72  460377.487691  7.241936e+06  880.45          J        22.0  27.185922   \n",
       "\n",
       "        y_rel  z_rel      oDist  \n",
       "19  10.898245   8.64  13.965207  \n",
       "20  14.597884   9.47  17.400562  \n",
       "18   0.664109   7.77  19.999672  \n",
       "17   0.000000   7.76  21.311746  \n",
       "72   2.907675  11.41  29.626289  "
      ]
     },
     "execution_count": 11,
     "metadata": {},
     "output_type": "execute_result"
    }
   ],
   "source": [
    "dfCoordinates.head()"
   ]
  },
  {
   "cell_type": "code",
   "execution_count": 30,
   "metadata": {
    "collapsed": true
   },
   "outputs": [],
   "source": [
    "def computeLineEquation(A,B):\n",
    "    # computes line equation given 2 points: A and B\n",
    "    # Both A and B need to be numpy arrays\n",
    "    \n",
    "    if (B[0]-A[0]) == 0: # Check if line is parallel to y axis (zero divide)\n",
    "        #print(\"Zero division. Line is parallel to y axis. x={x}\".format(x=A[0]))\n",
    "        return np.array([None,None])\n",
    "    else: # detect slope and intersection\n",
    "        m = (B[1]-A[1])/(B[0]-A[0]) # slope\n",
    "        xo = A[0]\n",
    "        yo = A[1]\n",
    "        c = -m*xo+yo    \n",
    "        #print(\"The line equation is y = {m}x + {c}\".format(m=m,c=c))\n",
    "        return np.array([m,c]) # returns slope and constant in numpy array format"
   ]
  },
  {
   "cell_type": "code",
   "execution_count": 150,
   "metadata": {},
   "outputs": [],
   "source": [
    "def computeVolume(A,B,C):\n",
    "    # computes volume given 3 points using double integral, line and plane equations\n",
    "    # A, B and C are numpy arrays\n",
    "    \n",
    "    # Setting up plane equation\n",
    "    AB = B-A # vector within plane\n",
    "    BC = C-B # vector within plane\n",
    "    NV = np.cross(AB,BC) # vector that is normal to plane\n",
    "    \n",
    "    # Plane values; plane equation is a*(x-xo)+b*(y-yo)+c*(z-zo)=0\n",
    "    a = NV[0]\n",
    "    b = NV[1]\n",
    "    c = NV[2]\n",
    "    xo = A[0]\n",
    "    yo = A[1]\n",
    "    zo = A[2]\n",
    "    \n",
    "    # Compute line equations:\n",
    "    slopeAB, constantAB = computeLineEquation(A,B)\n",
    "    slopeBC, constantBC = computeLineEquation(B,C)\n",
    "    slopeAC, constantAC = computeLineEquation(A,C)\n",
    "    \n",
    "    # Compute double integral\n",
    "    if ((slopeAC is not None) and (slopeAB is not None)): # if slopes are defined\n",
    "        volume1, error1 = integrate.dblquad(lambda y, x: ((-a*(x-xo)-b*(y-yo))/c)+zo, \n",
    "                                            A[0],\n",
    "                                            B[0], \n",
    "                                            lambda x: slopeAB*x+constantAB,\n",
    "                                            lambda x: slopeAC*x+constantAC)\n",
    "    else:\n",
    "        volume1 = 0.0\n",
    "    if ((slopeAC is not None) and (slopeBC is not None)): # if slopes are defined\n",
    "        volume2, error2 = integrate.dblquad(lambda y, x: ((-a*(x-xo)-b*(y-yo))/c)+zo, \n",
    "                                            B[0],\n",
    "                                            C[0], \n",
    "                                            lambda x: slopeAC*x+constantAC,\n",
    "                                            lambda x: slopeBC*x+constantBC)\n",
    "    else:\n",
    "        volume2 = 0.0\n",
    "    return abs(volume1)+abs(volume2) # return total volume"
   ]
  },
  {
   "cell_type": "code",
   "execution_count": 155,
   "metadata": {
    "scrolled": false
   },
   "outputs": [
    {
     "name": "stdout",
     "output_type": "stream",
     "text": [
      "Total volume is: 58646.18116705398 cubic meters.\n"
     ]
    }
   ],
   "source": [
    "# Required number of loops to compute total volume = number of points - 1\n",
    "#for i in range(dfCoordinates['x'].count()-2): # iterate thru all groups of 3 points in ascending order from origin.\n",
    "totalVolume = 0.0 # initialize volume summation holder\n",
    "for i in range(20): # DEBUG. Replace by above line when done.\n",
    "    s1 = dfCoordinates.iloc[i] # get series (row entry)\n",
    "    s2 = dfCoordinates.iloc[i+1]\n",
    "    s3 = dfCoordinates.iloc[i+2]\n",
    "    \n",
    "    dfAnalysis = pd.DataFrame([]) # build dataframe composed of these 3 entry set\n",
    "    dfAnalysis = dfAnalysis.append(s1,ignore_index=True)\n",
    "    dfAnalysis = dfAnalysis.append(s2,ignore_index=True)\n",
    "    dfAnalysis = dfAnalysis.append(s3,ignore_index=True)\n",
    "    dfAnalysis = dfAnalysis.sort_values(by=['x_rel'], ascending=True)# order by lowest x_rel >> A,B,C\n",
    "    \n",
    "#     A = dfAnalysis.iloc[0][['x_rel','y_rel','z_rel']].as_matrix() # extract entry as numpy array\n",
    "#     B = dfAnalysis.iloc[1][['x_rel','y_rel','z_rel']].as_matrix()\n",
    "#     C = dfAnalysis.iloc[2][['x_rel','y_rel','z_rel']].as_matrix()\n",
    "    A = np.array([dfAnalysis.iloc[0]['x_rel'],\n",
    "                  dfAnalysis.iloc[0]['y_rel'],\n",
    "                  dfAnalysis.iloc[0]['z_rel']])\n",
    "    B = np.array([dfAnalysis.iloc[1]['x_rel'],\n",
    "                  dfAnalysis.iloc[1]['y_rel'],\n",
    "                  dfAnalysis.iloc[1]['z_rel']])\n",
    "    C = np.array([dfAnalysis.iloc[2]['x_rel'],\n",
    "                  dfAnalysis.iloc[2]['y_rel'],\n",
    "                  dfAnalysis.iloc[2]['z_rel']])\n",
    "    \n",
    "    # Compute line equations, plane equations and volume\n",
    "    volume = computeVolume(A,B,C)\n",
    "    totalVolume += volume # add to total volume\n",
    "print('Total volume is: {v} cubic meters.'.format(v=totalVolume))"
   ]
  },
  {
   "cell_type": "code",
   "execution_count": 92,
   "metadata": {
    "collapsed": true
   },
   "outputs": [],
   "source": [
    "A = np.array([1.2462402103701609, -3.6996389972046018, -0.83000000000004093])\n",
    "B = np.array([17.149493328179236, -10.234135422855616, -0.87000000000000455])"
   ]
  },
  {
   "cell_type": "code",
   "execution_count": 93,
   "metadata": {},
   "outputs": [
    {
     "data": {
      "text/plain": [
       "array([ -5.27564647, -13.14985048,  50.69274322])"
      ]
     },
     "execution_count": 93,
     "metadata": {},
     "output_type": "execute_result"
    }
   ],
   "source": [
    "np.cross(A,B)"
   ]
  },
  {
   "cell_type": "code",
   "execution_count": 11,
   "metadata": {},
   "outputs": [
    {
     "data": {
      "text/plain": [
       "21.311745969300613"
      ]
     },
     "execution_count": 11,
     "metadata": {},
     "output_type": "execute_result"
    }
   ],
   "source": [
    "m.sqrt(m.pow(19.848751,2)+m.pow(7.76,2)) # check!"
   ]
  },
  {
   "cell_type": "markdown",
   "metadata": {},
   "source": [
    "## line equation"
   ]
  },
  {
   "cell_type": "code",
   "execution_count": 11,
   "metadata": {},
   "outputs": [
    {
     "name": "stdout",
     "output_type": "stream",
     "text": [
      "Zero division. Line is parallel to y axis. x=1\n"
     ]
    }
   ],
   "source": [
    "slope, constant = computeLineEquation(np.array([1,2]), np.array([1,15]))"
   ]
  },
  {
   "cell_type": "code",
   "execution_count": 5,
   "metadata": {},
   "outputs": [
    {
     "name": "stdout",
     "output_type": "stream",
     "text": [
      "The line equation is y = 1.0x + 1.0\n"
     ]
    }
   ],
   "source": [
    "# the same but different...\n",
    "slope, constant = computeLineEquation(np.array([1,2]), np.array([4,5]))"
   ]
  },
  {
   "cell_type": "markdown",
   "metadata": {},
   "source": [
    "## Computing volume of pyramid on top of cube"
   ]
  },
  {
   "cell_type": "code",
   "execution_count": 51,
   "metadata": {
    "collapsed": true
   },
   "outputs": [],
   "source": [
    "# Known volume: 25"
   ]
  },
  {
   "cell_type": "code",
   "execution_count": 52,
   "metadata": {},
   "outputs": [
    {
     "name": "stdout",
     "output_type": "stream",
     "text": [
      "The plane equation is 6.0*(x-0.0)+0.0*(y-3.0)+15.0*(z-4.0)=0\n",
      "Zero division. Line is parallel to y axis. x=0.0\n",
      "The line equation is y = 0.5x + 0.0\n",
      "The line equation is y = -0.1x + 3.0\n",
      "Volume 1: 0.0\n",
      "Volume 2: -25.0\n",
      "Total computed volume is 25.0\n"
     ]
    }
   ],
   "source": [
    "# Setting up points in 3D space\n",
    "A = np.array([0.0,\n",
    "              3.0,\n",
    "              4.0])\n",
    "B = np.array([0.0,\n",
    "              0.0,\n",
    "              4.0])\n",
    "C = np.array([5.0,\n",
    "              2.5,\n",
    "              2.0])\n",
    "# Setting up plane equation\n",
    "AB = B-A # vector within plane\n",
    "BC = C-B # vector within plane\n",
    "NV = np.cross(AB,BC) # vector that is normal to plane\n",
    "\n",
    "# Plane values\n",
    "a = NV[0]\n",
    "b = NV[1]\n",
    "c = NV[2]\n",
    "xo = A[0]\n",
    "yo = A[1]\n",
    "zo = A[2]\n",
    "print(\"The plane equation is {a}*(x-{xo})+{b}*(y-{yo})+{c}*(z-{zo})=0\".format(a=a,b=b,c=c,xo=xo,yo=yo,zo=zo))\n",
    "# With these values, you can fully define the plane equation\n",
    "# computing plane equations\n",
    "slopeAB, constantAB = computeLineEquation(A,B)\n",
    "slopeBC, constantBC = computeLineEquation(B,C)\n",
    "slopeAC, constantAC = computeLineEquation(A,C)\n",
    "\n",
    "# Compute volumes\n",
    "from scipy import integrate\n",
    "if ((slopeAC is not None) and (slopeAB is not None)): # if slopes are defined\n",
    "    volume1, error1 = integrate.dblquad(lambda y, x: ((-a*(x-xo)-b*(y-yo))/c)+zo, \n",
    "                                        A[0],\n",
    "                                        B[0], \n",
    "                                        lambda x: slopeAB*x+constantAB,\n",
    "                                        lambda x: slopeAC*x+constantAC)\n",
    "else:\n",
    "    volume1 = 0.0\n",
    "if ((slopeAC is not None) and (slopeBC is not None)): # if slopes are defined\n",
    "    volume2, error2 = integrate.dblquad(lambda y, x: ((-a*(x-xo)-b*(y-yo))/c)+zo, \n",
    "                                        B[0],\n",
    "                                        C[0], \n",
    "                                        lambda x: slopeAC*x+constantAC,\n",
    "                                        lambda x: slopeBC*x+constantBC)\n",
    "else:\n",
    "    volume2 = 0.0\n",
    "volumeTotal = abs(volume1)+abs(volume2)\n",
    "print(\"Volume 1: {v}\".format(v=volume1))\n",
    "print(\"Volume 2: {v}\".format(v=volume2))\n",
    "print(\"Total computed volume is {v}\".format(v=volumeTotal))"
   ]
  },
  {
   "cell_type": "markdown",
   "metadata": {},
   "source": [
    "So at the end of this chapter, we know how to calculate the volume of a solid object formed by a set of 3 points in space. Now it is a matter of ordering how this computations are to be made for a point cloud and sum all of them for total volume."
   ]
  }
 ],
 "metadata": {
  "kernelspec": {
   "display_name": "Python 3",
   "language": "python",
   "name": "python3"
  },
  "language_info": {
   "codemirror_mode": {
    "name": "ipython",
    "version": 3
   },
   "file_extension": ".py",
   "mimetype": "text/x-python",
   "name": "python",
   "nbconvert_exporter": "python",
   "pygments_lexer": "ipython3",
   "version": "3.6.1"
  }
 },
 "nbformat": 4,
 "nbformat_minor": 2
}

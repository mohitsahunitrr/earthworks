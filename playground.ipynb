{
 "cells": [
  {
   "cell_type": "code",
   "execution_count": 28,
   "metadata": {
    "collapsed": true
   },
   "outputs": [],
   "source": [
    "import math as m # math library\n",
    "from scipy.spatial import distance\n",
    "import numpy as np\n",
    "import scipy as sp\n",
    "import pandas as pd\n",
    "\n",
    "import plotly\n",
    "plotly.tools.set_credentials_file(username='agu3rra', api_key='b6WWbmeqKfYxPkQJBnw8') # setting up credentials; Plotly is an online service.\n",
    "import plotly.plotly as py # import graphics library\n",
    "import plotly.graph_objs as go\n",
    "\n",
    "# ----- # ----- # ----- # ----- # ----- # ----- # ----- # ----- # ----- # -----\n",
    "# Global variables\n",
    "a = 6378137.0 # semi-major axis a using WGS84 standard (World Geodetic System)\n",
    "b = 6356752.314245 # semi-minor axis b using WGS84 standard\n",
    "f = (a-b)/a # first flattening of the Earth taken into account\n",
    "e2 = 2*f-m.pow(f,2) # e squared parameter\n",
    "\n",
    "# ----- # ----- # ----- # ----- # ----- # ----- # ----- # ----- # ----- # -----\n",
    "# Functions\n",
    "def deg2rad (degrees):\n",
    "    # Converts from degrees to radians\n",
    "    return degrees*m.pi/180\n",
    "\n",
    "def rad2deg (radians):\n",
    "    # Converts from radians to degrees\n",
    "    return radians*180/m.pi\n",
    "\n",
    "def calculateV (lat):\n",
    "    # Return v for the given latitude in degrees\n",
    "    latRad = deg2rad(lat) # converts to radians\n",
    "    return a/m.sqrt(1-e2*m.pow(m.sin(latRad),2))\n",
    "\n",
    "def geo2car (lat,lon,ele):\n",
    "    # Returns point in Cartesian coordinates given its Geographic coordinates\n",
    "    # Data returned in Pandas Series form\n",
    "\n",
    "    v = calculateV(lat)\n",
    "\n",
    "    latRad = deg2rad(lat)\n",
    "    lonRad = deg2rad(lon)\n",
    "    z = (v*(1-e2)+ele)*m.sin(latRad)\n",
    "    y = (v+ele)*m.cos(latRad)*m.sin(lonRad)\n",
    "    x = (v+ele)*m.cos(latRad)*m.cos(lonRad)\n",
    "\n",
    "    pointC = pd.Series(dict(x=x, y=y, z=z))\n",
    "    return pointC # returns point in Cartesian coordinates\n",
    "\n",
    "# ----- # ----- # ----- # ----- # ----- # ----- # ----- # ----- # ----- # -----\n",
    "# Test code for distance measurements and conversion from Geographic to\n",
    "# Cartesian Coordinates\n",
    "\n",
    "# pa = geo2cat(-24.9361993186,-51.3906013593,883.16)\n",
    "# pb = geo2cat(-24.9356264155,-51.3912779465,882.69)\n",
    "#\n",
    "# dst = distance.euclidean(pa,pb)\n",
    "# print(dst)\n",
    "# print(pa)\n",
    "# print(pb)\n",
    "\n",
    "# ----- # ----- # ----- # ----- # ----- # ----- # ----- # ----- # ----- # -----\n",
    "# MAIN CODE\n",
    "\n",
    "# Reading data from CSV file and placing it on a numpy array\n",
    "dfGPS = pd.read_csv('gpsData.csv', sep=',') # import csv data into pandas dataframe"
   ]
  },
  {
   "cell_type": "code",
   "execution_count": 19,
   "metadata": {
    "collapsed": true
   },
   "outputs": [],
   "source": [
    "x = dfGPS[['latitude']].values\n",
    "y = dfGPS[['longitude']].values\n",
    "z = dfGPS[['elevation']].values"
   ]
  },
  {
   "cell_type": "code",
   "execution_count": 21,
   "metadata": {},
   "outputs": [
    {
     "name": "stdout",
     "output_type": "stream",
     "text": [
      "High five! You successfuly sent some data to your account on plotly. View your plot in your browser at https://plot.ly/~agu3rra/0 or inside your plot.ly account where it is named 'simple-3d-scatter'\n"
     ]
    },
    {
     "data": {
      "text/html": [
       "<iframe id=\"igraph\" scrolling=\"no\" style=\"border:none;\" seamless=\"seamless\" src=\"https://plot.ly/~agu3rra/0.embed\" height=\"525px\" width=\"100%\"></iframe>"
      ],
      "text/plain": [
       "<plotly.tools.PlotlyDisplay object>"
      ]
     },
     "execution_count": 21,
     "metadata": {},
     "output_type": "execute_result"
    }
   ],
   "source": [
    "trace1 = go.Scatter3d(\n",
    "    x=x,\n",
    "    y=y,\n",
    "    z=z,\n",
    "    mode='markers',\n",
    "    marker=dict(\n",
    "        size=12,\n",
    "        line=dict(\n",
    "            color='rgba(217, 217, 217, 0.14)',\n",
    "            width=0.5\n",
    "        ),\n",
    "        opacity=0.8\n",
    "    )\n",
    ")\n",
    "\n",
    "data = [trace1]\n",
    "layout = go.Layout(\n",
    "    margin=dict(\n",
    "        l=0,\n",
    "        r=0,\n",
    "        b=0,\n",
    "        t=0\n",
    "    )\n",
    ")\n",
    "fig = go.Figure(data=data, layout=layout)\n",
    "py.iplot(fig, filename='simple-3d-scatter')"
   ]
  },
  {
   "cell_type": "code",
   "execution_count": 32,
   "metadata": {
    "collapsed": true
   },
   "outputs": [],
   "source": [
    "dfCartesian = pd.DataFrame([]) # initialize new dataframe\n",
    "for rowIndex, row in dfGPS.iterrows(): #Iterating thru elements in dataframe\n",
    "    pointCartesian = geo2car(row['latitude'],row['longitude'],row['elevation']) # convert to cartesian coordinates\n",
    "    dfCartesian = dfCartesian.append(pointCartesian, ignore_index=True) # append newly converted data to dataframe\n",
    "dfCartesian.to_csv('gpsDataCartesian.csv',index=False) # save to file"
   ]
  },
  {
   "cell_type": "code",
   "execution_count": 33,
   "metadata": {
    "collapsed": true
   },
   "outputs": [],
   "source": [
    "x = dfCartesian[['x']].values\n",
    "y = dfCartesian[['y']].values\n",
    "z = dfCartesian[['z']].values"
   ]
  },
  {
   "cell_type": "code",
   "execution_count": 35,
   "metadata": {},
   "outputs": [
    {
     "name": "stdout",
     "output_type": "stream",
     "text": [
      "High five! You successfuly sent some data to your account on plotly. View your plot in your browser at https://plot.ly/~agu3rra/0 or inside your plot.ly account where it is named 'simple-3d-scatter'\n"
     ]
    },
    {
     "data": {
      "text/html": [
       "<iframe id=\"igraph\" scrolling=\"no\" style=\"border:none;\" seamless=\"seamless\" src=\"https://plot.ly/~agu3rra/0.embed\" height=\"525px\" width=\"100%\"></iframe>"
      ],
      "text/plain": [
       "<plotly.tools.PlotlyDisplay object>"
      ]
     },
     "execution_count": 35,
     "metadata": {},
     "output_type": "execute_result"
    }
   ],
   "source": [
    "trace1 = go.Scatter3d(\n",
    "    x=x,\n",
    "    y=y,\n",
    "    z=z,\n",
    "    mode='markers',\n",
    "    marker=dict(\n",
    "        size=5,\n",
    "        line=dict(\n",
    "            color='rgba(217, 217, 217, 0.14)',\n",
    "            width=0.5\n",
    "        ),\n",
    "        opacity=0.8\n",
    "    )\n",
    ")\n",
    "\n",
    "data = [trace1]\n",
    "layout = go.Layout(\n",
    "    margin=dict(\n",
    "        l=0,\n",
    "        r=0,\n",
    "        b=0,\n",
    "        t=0\n",
    "    )\n",
    ")\n",
    "fig = go.Figure(data=data, layout=layout)\n",
    "py.iplot(fig, filename='simple-3d-scatter')"
   ]
  },
  {
   "cell_type": "code",
   "execution_count": 37,
   "metadata": {},
   "outputs": [
    {
     "data": {
      "text/html": [
       "<iframe id=\"igraph\" scrolling=\"no\" style=\"border:none;\" seamless=\"seamless\" src=\"https://plot.ly/~agu3rra/4.embed\" height=\"525px\" width=\"100%\"></iframe>"
      ],
      "text/plain": [
       "<plotly.tools.PlotlyDisplay object>"
      ]
     },
     "execution_count": 37,
     "metadata": {},
     "output_type": "execute_result"
    }
   ],
   "source": [
    "data = [\n",
    "    go.Contour(\n",
    "        z=z,\n",
    "        x=x,\n",
    "        y=y\n",
    "    )]\n",
    "\n",
    "py.iplot(data)"
   ]
  },
  {
   "cell_type": "code",
   "execution_count": 38,
   "metadata": {
    "collapsed": true
   },
   "outputs": [],
   "source": [
    "x = dfCartesian[['x']].values\n",
    "y = dfCartesian[['y']].values\n",
    "z = dfGPS[['elevation']].values"
   ]
  },
  {
   "cell_type": "code",
   "execution_count": 39,
   "metadata": {},
   "outputs": [
    {
     "data": {
      "text/html": [
       "<iframe id=\"igraph\" scrolling=\"no\" style=\"border:none;\" seamless=\"seamless\" src=\"https://plot.ly/~agu3rra/6.embed\" height=\"525px\" width=\"100%\"></iframe>"
      ],
      "text/plain": [
       "<plotly.tools.PlotlyDisplay object>"
      ]
     },
     "execution_count": 39,
     "metadata": {},
     "output_type": "execute_result"
    }
   ],
   "source": [
    "data = [\n",
    "    go.Contour(\n",
    "        z=z,\n",
    "        x=x,\n",
    "        y=y\n",
    "    )]\n",
    "\n",
    "py.iplot(data)"
   ]
  },
  {
   "cell_type": "code",
   "execution_count": 40,
   "metadata": {
    "collapsed": true
   },
   "outputs": [],
   "source": [
    "x = dfGPS[['latitude']].values\n",
    "y = dfGPS[['longitude']].values\n",
    "z = dfGPS[['elevation']].values"
   ]
  },
  {
   "cell_type": "code",
   "execution_count": 41,
   "metadata": {},
   "outputs": [
    {
     "data": {
      "text/html": [
       "<iframe id=\"igraph\" scrolling=\"no\" style=\"border:none;\" seamless=\"seamless\" src=\"https://plot.ly/~agu3rra/8.embed\" height=\"525px\" width=\"100%\"></iframe>"
      ],
      "text/plain": [
       "<plotly.tools.PlotlyDisplay object>"
      ]
     },
     "execution_count": 41,
     "metadata": {},
     "output_type": "execute_result"
    }
   ],
   "source": [
    "data = [\n",
    "    go.Contour(\n",
    "        z=z,\n",
    "        x=x,\n",
    "        y=y\n",
    "    )]\n",
    "\n",
    "py.iplot(data)"
   ]
  },
  {
   "cell_type": "code",
   "execution_count": 42,
   "metadata": {},
   "outputs": [
    {
     "data": {
      "text/plain": [
       "(-226727318209172.47, -6.116223956084173e+16, 883.16, 'J')"
      ]
     },
     "execution_count": 42,
     "metadata": {},
     "output_type": "execute_result"
    }
   ],
   "source": [
    "import utm\n",
    "utm.from_latlon(-24.9361993186,-51.3906013593,883.16)"
   ]
  },
  {
   "cell_type": "code",
   "execution_count": 43,
   "metadata": {},
   "outputs": [
    {
     "data": {
      "text/plain": [
       "(460564.002392906, 7242060.106369796, 22, 'J')"
      ]
     },
     "execution_count": 43,
     "metadata": {},
     "output_type": "execute_result"
    }
   ],
   "source": [
    "utm.from_latlon(-24.9361993186,-51.3906013593)"
   ]
  },
  {
   "cell_type": "code",
   "execution_count": 44,
   "metadata": {
    "collapsed": true
   },
   "outputs": [],
   "source": [
    "point = utm.from_latlon(-24.9361993186,-51.3906013593)"
   ]
  },
  {
   "cell_type": "code",
   "execution_count": 45,
   "metadata": {},
   "outputs": [
    {
     "data": {
      "text/plain": [
       "460564.002392906"
      ]
     },
     "execution_count": 45,
     "metadata": {},
     "output_type": "execute_result"
    }
   ],
   "source": [
    "point[0]"
   ]
  },
  {
   "cell_type": "code",
   "execution_count": 46,
   "metadata": {
    "collapsed": true
   },
   "outputs": [],
   "source": [
    "dfUTM = pd.DataFrame([]) # initialize new dataframe\n",
    "for rowIndex, row in dfGPS.iterrows(): #Iterating thru elements in dataframe\n",
    "    point = utm.from_latlon(row['latitude'],row['longitude']) # convert to UTM coordinates\n",
    "    pointUTM = pd.Series(dict(\n",
    "                            x=point[0],\n",
    "                            y=point[1],\n",
    "                            z=row['elevation'],\n",
    "                            zoneNumber=point[2],\n",
    "                            zoneLetter=point[3]))\n",
    "    dfUTM = dfUTM.append(pointUTM, ignore_index=True) # append newly converted data to dataframe"
   ]
  },
  {
   "cell_type": "code",
   "execution_count": 47,
   "metadata": {},
   "outputs": [
    {
     "data": {
      "text/html": [
       "<iframe id=\"igraph\" scrolling=\"no\" style=\"border:none;\" seamless=\"seamless\" src=\"https://plot.ly/~agu3rra/10.embed\" height=\"525px\" width=\"100%\"></iframe>"
      ],
      "text/plain": [
       "<plotly.tools.PlotlyDisplay object>"
      ]
     },
     "execution_count": 47,
     "metadata": {},
     "output_type": "execute_result"
    }
   ],
   "source": [
    "x = dfUTM[['x']].values\n",
    "y = dfUTM[['y']].values\n",
    "z = dfUTM[['z']].values\n",
    "data = [\n",
    "    go.Contour(\n",
    "        z=z,\n",
    "        x=x,\n",
    "        y=y\n",
    "    )]\n",
    "\n",
    "py.iplot(data)"
   ]
  },
  {
   "cell_type": "code",
   "execution_count": null,
   "metadata": {
    "collapsed": true
   },
   "outputs": [],
   "source": []
  },
  {
   "cell_type": "code",
   "execution_count": null,
   "metadata": {
    "collapsed": true
   },
   "outputs": [],
   "source": []
  },
  {
   "cell_type": "code",
   "execution_count": null,
   "metadata": {
    "collapsed": true
   },
   "outputs": [],
   "source": []
  },
  {
   "cell_type": "code",
   "execution_count": null,
   "metadata": {
    "collapsed": true
   },
   "outputs": [],
   "source": []
  }
 ],
 "metadata": {
  "kernelspec": {
   "display_name": "Python 3",
   "language": "python",
   "name": "python3"
  },
  "language_info": {
   "codemirror_mode": {
    "name": "ipython",
    "version": 3
   },
   "file_extension": ".py",
   "mimetype": "text/x-python",
   "name": "python",
   "nbconvert_exporter": "python",
   "pygments_lexer": "ipython3",
   "version": "3.6.1"
  }
 },
 "nbformat": 4,
 "nbformat_minor": 2
}

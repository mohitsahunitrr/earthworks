{
 "cells": [
  {
   "cell_type": "markdown",
   "metadata": {},
   "source": [
    "# Playground notebook for volume calculations"
   ]
  },
  {
   "cell_type": "code",
   "execution_count": 1,
   "metadata": {
    "collapsed": true
   },
   "outputs": [],
   "source": [
    "# imports\n",
    "import math as m\n",
    "import numpy as np\n",
    "import pandas as pd\n",
    "import pickle\n",
    "import os"
   ]
  },
  {
   "cell_type": "code",
   "execution_count": 2,
   "metadata": {},
   "outputs": [
    {
     "name": "stdout",
     "output_type": "stream",
     "text": [
      "Loding survey data\n"
     ]
    }
   ],
   "source": [
    "# creating dataframe from csv file\n",
    "print('Loding survey data')\n",
    "dfCoordinates = pd.read_csv('gpsDataUTM.csv') # reads data into dataframe"
   ]
  },
  {
   "cell_type": "code",
   "execution_count": 3,
   "metadata": {},
   "outputs": [
    {
     "data": {
      "text/html": [
       "<div>\n",
       "<style>\n",
       "    .dataframe thead tr:only-child th {\n",
       "        text-align: right;\n",
       "    }\n",
       "\n",
       "    .dataframe thead th {\n",
       "        text-align: left;\n",
       "    }\n",
       "\n",
       "    .dataframe tbody tr th {\n",
       "        vertical-align: top;\n",
       "    }\n",
       "</style>\n",
       "<table border=\"1\" class=\"dataframe\">\n",
       "  <thead>\n",
       "    <tr style=\"text-align: right;\">\n",
       "      <th></th>\n",
       "      <th>x</th>\n",
       "      <th>y</th>\n",
       "      <th>z</th>\n",
       "      <th>zoneLetter</th>\n",
       "      <th>zoneNumber</th>\n",
       "      <th>x_rel</th>\n",
       "      <th>y_rel</th>\n",
       "      <th>z_rel</th>\n",
       "    </tr>\n",
       "  </thead>\n",
       "  <tbody>\n",
       "    <tr>\n",
       "      <th>0</th>\n",
       "      <td>460564.162280</td>\n",
       "      <td>7.242060e+06</td>\n",
       "      <td>883.16</td>\n",
       "      <td>J</td>\n",
       "      <td>22.0</td>\n",
       "      <td>213.860510</td>\n",
       "      <td>127.527218</td>\n",
       "      <td>14.12</td>\n",
       "    </tr>\n",
       "    <tr>\n",
       "      <th>1</th>\n",
       "      <td>460564.002393</td>\n",
       "      <td>7.242060e+06</td>\n",
       "      <td>883.16</td>\n",
       "      <td>J</td>\n",
       "      <td>22.0</td>\n",
       "      <td>213.700623</td>\n",
       "      <td>127.211200</td>\n",
       "      <td>14.12</td>\n",
       "    </tr>\n",
       "    <tr>\n",
       "      <th>2</th>\n",
       "      <td>460564.321028</td>\n",
       "      <td>7.242032e+06</td>\n",
       "      <td>883.18</td>\n",
       "      <td>J</td>\n",
       "      <td>22.0</td>\n",
       "      <td>214.019258</td>\n",
       "      <td>98.792774</td>\n",
       "      <td>14.14</td>\n",
       "    </tr>\n",
       "    <tr>\n",
       "      <th>3</th>\n",
       "      <td>460564.563586</td>\n",
       "      <td>7.242003e+06</td>\n",
       "      <td>880.68</td>\n",
       "      <td>J</td>\n",
       "      <td>22.0</td>\n",
       "      <td>214.261816</td>\n",
       "      <td>70.346291</td>\n",
       "      <td>11.64</td>\n",
       "    </tr>\n",
       "    <tr>\n",
       "      <th>4</th>\n",
       "      <td>460567.438707</td>\n",
       "      <td>7.241978e+06</td>\n",
       "      <td>878.91</td>\n",
       "      <td>J</td>\n",
       "      <td>22.0</td>\n",
       "      <td>217.136937</td>\n",
       "      <td>44.608228</td>\n",
       "      <td>9.87</td>\n",
       "    </tr>\n",
       "  </tbody>\n",
       "</table>\n",
       "</div>"
      ],
      "text/plain": [
       "               x             y       z zoneLetter  zoneNumber       x_rel  \\\n",
       "0  460564.162280  7.242060e+06  883.16          J        22.0  213.860510   \n",
       "1  460564.002393  7.242060e+06  883.16          J        22.0  213.700623   \n",
       "2  460564.321028  7.242032e+06  883.18          J        22.0  214.019258   \n",
       "3  460564.563586  7.242003e+06  880.68          J        22.0  214.261816   \n",
       "4  460567.438707  7.241978e+06  878.91          J        22.0  217.136937   \n",
       "\n",
       "        y_rel  z_rel  \n",
       "0  127.527218  14.12  \n",
       "1  127.211200  14.12  \n",
       "2   98.792774  14.14  \n",
       "3   70.346291  11.64  \n",
       "4   44.608228   9.87  "
      ]
     },
     "execution_count": 3,
     "metadata": {},
     "output_type": "execute_result"
    }
   ],
   "source": [
    "dfCoordinates.head()"
   ]
  },
  {
   "cell_type": "code",
   "execution_count": 4,
   "metadata": {
    "collapsed": true
   },
   "outputs": [],
   "source": [
    "# Example: computing distance between points\n",
    "A = dfCoordinates[['x_rel','y_rel','z_rel']].values[0]\n",
    "B = dfCoordinates[['x_rel','y_rel','z_rel']].values[50]\n",
    "O = np.array([0.0,0.0,0.0]) # origin"
   ]
  },
  {
   "cell_type": "code",
   "execution_count": 5,
   "metadata": {
    "scrolled": true
   },
   "outputs": [
    {
     "name": "stdout",
     "output_type": "stream",
     "text": [
      "Distance AB: 62.0909745878\n",
      "Distance OA: 249.397040219\n",
      "Distance OB: 191.342243601\n"
     ]
    }
   ],
   "source": [
    "distanceAB = np.linalg.norm(B-A)\n",
    "distanceOA = np.linalg.norm(A-O)\n",
    "distanceOB = np.linalg.norm(B-O)\n",
    "print('Distance AB: %s' % distanceAB)\n",
    "print('Distance OA: %s' % distanceOA)\n",
    "print('Distance OB: %s' % distanceOB)"
   ]
  },
  {
   "cell_type": "code",
   "execution_count": 6,
   "metadata": {
    "collapsed": true
   },
   "outputs": [],
   "source": [
    "# Adding new info to dataframe\n",
    "def distanceFromOrigin(x,y,z):\n",
    "    # compute distance from origin <0,0,0>\n",
    "    point = np.array([x,y,z]) # place columns into an array <x,y,z>\n",
    "    origin = np.zeros(3) # create origin <0,0,0>\n",
    "    return np.linalg.norm(point-origin) # compute norm\n",
    "\n",
    "dfCoordinates['oDist'] = np.vectorize(distanceFromOrigin)(dfCoordinates['x_rel'],\n",
    "                                                          dfCoordinates['y_rel'],\n",
    "                                                          dfCoordinates['z_rel'])"
   ]
  },
  {
   "cell_type": "code",
   "execution_count": 7,
   "metadata": {},
   "outputs": [
    {
     "data": {
      "text/html": [
       "<div>\n",
       "<style>\n",
       "    .dataframe thead tr:only-child th {\n",
       "        text-align: right;\n",
       "    }\n",
       "\n",
       "    .dataframe thead th {\n",
       "        text-align: left;\n",
       "    }\n",
       "\n",
       "    .dataframe tbody tr th {\n",
       "        vertical-align: top;\n",
       "    }\n",
       "</style>\n",
       "<table border=\"1\" class=\"dataframe\">\n",
       "  <thead>\n",
       "    <tr style=\"text-align: right;\">\n",
       "      <th></th>\n",
       "      <th>x</th>\n",
       "      <th>y</th>\n",
       "      <th>z</th>\n",
       "      <th>zoneLetter</th>\n",
       "      <th>zoneNumber</th>\n",
       "      <th>x_rel</th>\n",
       "      <th>y_rel</th>\n",
       "      <th>z_rel</th>\n",
       "      <th>oDist</th>\n",
       "    </tr>\n",
       "  </thead>\n",
       "  <tbody>\n",
       "    <tr>\n",
       "      <th>0</th>\n",
       "      <td>460564.162280</td>\n",
       "      <td>7.242060e+06</td>\n",
       "      <td>883.16</td>\n",
       "      <td>J</td>\n",
       "      <td>22.0</td>\n",
       "      <td>213.860510</td>\n",
       "      <td>127.527218</td>\n",
       "      <td>14.12</td>\n",
       "      <td>249.397040</td>\n",
       "    </tr>\n",
       "    <tr>\n",
       "      <th>1</th>\n",
       "      <td>460564.002393</td>\n",
       "      <td>7.242060e+06</td>\n",
       "      <td>883.16</td>\n",
       "      <td>J</td>\n",
       "      <td>22.0</td>\n",
       "      <td>213.700623</td>\n",
       "      <td>127.211200</td>\n",
       "      <td>14.12</td>\n",
       "      <td>249.098414</td>\n",
       "    </tr>\n",
       "    <tr>\n",
       "      <th>2</th>\n",
       "      <td>460564.321028</td>\n",
       "      <td>7.242032e+06</td>\n",
       "      <td>883.18</td>\n",
       "      <td>J</td>\n",
       "      <td>22.0</td>\n",
       "      <td>214.019258</td>\n",
       "      <td>98.792774</td>\n",
       "      <td>14.14</td>\n",
       "      <td>236.144436</td>\n",
       "    </tr>\n",
       "    <tr>\n",
       "      <th>3</th>\n",
       "      <td>460564.563586</td>\n",
       "      <td>7.242003e+06</td>\n",
       "      <td>880.68</td>\n",
       "      <td>J</td>\n",
       "      <td>22.0</td>\n",
       "      <td>214.261816</td>\n",
       "      <td>70.346291</td>\n",
       "      <td>11.64</td>\n",
       "      <td>225.814562</td>\n",
       "    </tr>\n",
       "    <tr>\n",
       "      <th>4</th>\n",
       "      <td>460567.438707</td>\n",
       "      <td>7.241978e+06</td>\n",
       "      <td>878.91</td>\n",
       "      <td>J</td>\n",
       "      <td>22.0</td>\n",
       "      <td>217.136937</td>\n",
       "      <td>44.608228</td>\n",
       "      <td>9.87</td>\n",
       "      <td>221.891326</td>\n",
       "    </tr>\n",
       "  </tbody>\n",
       "</table>\n",
       "</div>"
      ],
      "text/plain": [
       "               x             y       z zoneLetter  zoneNumber       x_rel  \\\n",
       "0  460564.162280  7.242060e+06  883.16          J        22.0  213.860510   \n",
       "1  460564.002393  7.242060e+06  883.16          J        22.0  213.700623   \n",
       "2  460564.321028  7.242032e+06  883.18          J        22.0  214.019258   \n",
       "3  460564.563586  7.242003e+06  880.68          J        22.0  214.261816   \n",
       "4  460567.438707  7.241978e+06  878.91          J        22.0  217.136937   \n",
       "\n",
       "        y_rel  z_rel       oDist  \n",
       "0  127.527218  14.12  249.397040  \n",
       "1  127.211200  14.12  249.098414  \n",
       "2   98.792774  14.14  236.144436  \n",
       "3   70.346291  11.64  225.814562  \n",
       "4   44.608228   9.87  221.891326  "
      ]
     },
     "execution_count": 7,
     "metadata": {},
     "output_type": "execute_result"
    }
   ],
   "source": [
    "dfCoordinates.head()"
   ]
  },
  {
   "cell_type": "code",
   "execution_count": 8,
   "metadata": {
    "collapsed": true
   },
   "outputs": [],
   "source": [
    "# sorts accordint to distance from the origin.\n",
    "dfCoordinates = dfCoordinates.sort_values(by=['oDist'],\n",
    "                                          ascending=True)"
   ]
  },
  {
   "cell_type": "code",
   "execution_count": 9,
   "metadata": {},
   "outputs": [
    {
     "data": {
      "text/plain": [
       "'0.20.1'"
      ]
     },
     "execution_count": 9,
     "metadata": {},
     "output_type": "execute_result"
    }
   ],
   "source": [
    "pd.__version__"
   ]
  },
  {
   "cell_type": "code",
   "execution_count": 10,
   "metadata": {},
   "outputs": [
    {
     "data": {
      "text/html": [
       "<div>\n",
       "<style>\n",
       "    .dataframe thead tr:only-child th {\n",
       "        text-align: right;\n",
       "    }\n",
       "\n",
       "    .dataframe thead th {\n",
       "        text-align: left;\n",
       "    }\n",
       "\n",
       "    .dataframe tbody tr th {\n",
       "        vertical-align: top;\n",
       "    }\n",
       "</style>\n",
       "<table border=\"1\" class=\"dataframe\">\n",
       "  <thead>\n",
       "    <tr style=\"text-align: right;\">\n",
       "      <th></th>\n",
       "      <th>x</th>\n",
       "      <th>y</th>\n",
       "      <th>z</th>\n",
       "      <th>zoneLetter</th>\n",
       "      <th>zoneNumber</th>\n",
       "      <th>x_rel</th>\n",
       "      <th>y_rel</th>\n",
       "      <th>z_rel</th>\n",
       "      <th>oDist</th>\n",
       "    </tr>\n",
       "  </thead>\n",
       "  <tbody>\n",
       "    <tr>\n",
       "      <th>19</th>\n",
       "      <td>460351.568925</td>\n",
       "      <td>7.241944e+06</td>\n",
       "      <td>877.68</td>\n",
       "      <td>J</td>\n",
       "      <td>22.0</td>\n",
       "      <td>1.267155</td>\n",
       "      <td>10.898245</td>\n",
       "      <td>8.64</td>\n",
       "      <td>13.965207</td>\n",
       "    </tr>\n",
       "    <tr>\n",
       "      <th>20</th>\n",
       "      <td>460350.322685</td>\n",
       "      <td>7.241947e+06</td>\n",
       "      <td>878.51</td>\n",
       "      <td>J</td>\n",
       "      <td>22.0</td>\n",
       "      <td>0.020915</td>\n",
       "      <td>14.597884</td>\n",
       "      <td>9.47</td>\n",
       "      <td>17.400562</td>\n",
       "    </tr>\n",
       "    <tr>\n",
       "      <th>18</th>\n",
       "      <td>460368.718418</td>\n",
       "      <td>7.241934e+06</td>\n",
       "      <td>876.81</td>\n",
       "      <td>J</td>\n",
       "      <td>22.0</td>\n",
       "      <td>18.416649</td>\n",
       "      <td>0.664109</td>\n",
       "      <td>7.77</td>\n",
       "      <td>19.999672</td>\n",
       "    </tr>\n",
       "    <tr>\n",
       "      <th>17</th>\n",
       "      <td>460370.150521</td>\n",
       "      <td>7.241933e+06</td>\n",
       "      <td>876.80</td>\n",
       "      <td>J</td>\n",
       "      <td>22.0</td>\n",
       "      <td>19.848751</td>\n",
       "      <td>0.000000</td>\n",
       "      <td>7.76</td>\n",
       "      <td>21.311746</td>\n",
       "    </tr>\n",
       "    <tr>\n",
       "      <th>72</th>\n",
       "      <td>460377.487691</td>\n",
       "      <td>7.241936e+06</td>\n",
       "      <td>880.45</td>\n",
       "      <td>J</td>\n",
       "      <td>22.0</td>\n",
       "      <td>27.185922</td>\n",
       "      <td>2.907675</td>\n",
       "      <td>11.41</td>\n",
       "      <td>29.626289</td>\n",
       "    </tr>\n",
       "  </tbody>\n",
       "</table>\n",
       "</div>"
      ],
      "text/plain": [
       "                x             y       z zoneLetter  zoneNumber      x_rel  \\\n",
       "19  460351.568925  7.241944e+06  877.68          J        22.0   1.267155   \n",
       "20  460350.322685  7.241947e+06  878.51          J        22.0   0.020915   \n",
       "18  460368.718418  7.241934e+06  876.81          J        22.0  18.416649   \n",
       "17  460370.150521  7.241933e+06  876.80          J        22.0  19.848751   \n",
       "72  460377.487691  7.241936e+06  880.45          J        22.0  27.185922   \n",
       "\n",
       "        y_rel  z_rel      oDist  \n",
       "19  10.898245   8.64  13.965207  \n",
       "20  14.597884   9.47  17.400562  \n",
       "18   0.664109   7.77  19.999672  \n",
       "17   0.000000   7.76  21.311746  \n",
       "72   2.907675  11.41  29.626289  "
      ]
     },
     "execution_count": 10,
     "metadata": {},
     "output_type": "execute_result"
    }
   ],
   "source": [
    "dfCoordinates.head()"
   ]
  },
  {
   "cell_type": "code",
   "execution_count": 11,
   "metadata": {},
   "outputs": [
    {
     "data": {
      "text/plain": [
       "21.311745969300613"
      ]
     },
     "execution_count": 11,
     "metadata": {},
     "output_type": "execute_result"
    }
   ],
   "source": [
    "m.sqrt(m.pow(19.848751,2)+m.pow(7.76,2)) # check!"
   ]
  },
  {
   "cell_type": "markdown",
   "metadata": {},
   "source": [
    "## Learning to compute line equations"
   ]
  },
  {
   "cell_type": "code",
   "execution_count": 15,
   "metadata": {},
   "outputs": [
    {
     "name": "stdout",
     "output_type": "stream",
     "text": [
      "Line Solution is y = -12.0x + 14.0\n"
     ]
    }
   ],
   "source": [
    "# Useful computing. Compute line equation given 2 points A, B.\n",
    "A = np.array([1,2])\n",
    "B = np.array([4,5])\n",
    "# line equation: (y-yo) = m*(x-xo)\n",
    "m = (A[1]-B[1])/(A[0]/B[0]) # slope\n",
    "xo = A[0]\n",
    "yo = A[1]\n",
    "c = -m*xo+yo\n",
    "print(\"Line Solution is y = {m}x + {c}\".format(m=m,c=c))"
   ]
  },
  {
   "cell_type": "code",
   "execution_count": 25,
   "metadata": {
    "collapsed": true
   },
   "outputs": [],
   "source": [
    "# Defining a generic function to comput the above\n",
    "def computeLineEquation(A,B):\n",
    "    # computes line equation given 2 points: A and B\n",
    "    # Both A and B need to be numpy arrays\n",
    "    m = (B[1]-A[1])/(B[0]-A[0]) # slope\n",
    "    xo = A[0]\n",
    "    yo = A[1]\n",
    "    c = -m*xo+yo\n",
    "    print(\"The line equation is y = {m}x + {c}\".format(m=m,c=c))\n",
    "    return np.array([m,c]) # returns slope and constant in numpy array format"
   ]
  },
  {
   "cell_type": "code",
   "execution_count": 26,
   "metadata": {},
   "outputs": [
    {
     "name": "stdout",
     "output_type": "stream",
     "text": [
      "The line equation is y = 1.0x + 1.0\n"
     ]
    }
   ],
   "source": [
    "# the same but different...\n",
    "slope, constant = computeLineEquation(np.array([1,2]), np.array([4,5]))"
   ]
  },
  {
   "cell_type": "code",
   "execution_count": 28,
   "metadata": {},
   "outputs": [
    {
     "name": "stdout",
     "output_type": "stream",
     "text": [
      "The line equation is y = -0.6666666666666666x + 7.666666666666666\n"
     ]
    }
   ],
   "source": [
    "slope, constant = computeLineEquation(np.array([4,5]), np.array([10,1]))"
   ]
  },
  {
   "cell_type": "code",
   "execution_count": 31,
   "metadata": {
    "scrolled": true
   },
   "outputs": [
    {
     "name": "stdout",
     "output_type": "stream",
     "text": [
      "The line equation is y = -0.1111111111111111x + 2.111111111111111\n"
     ]
    }
   ],
   "source": [
    "slope, constant = computeLineEquation(np.array([1,2]), np.array([10,1]))"
   ]
  },
  {
   "cell_type": "markdown",
   "metadata": {},
   "source": [
    "## Computing plane equations from 3 points"
   ]
  },
  {
   "cell_type": "code",
   "execution_count": 46,
   "metadata": {},
   "outputs": [],
   "source": [
    "# Example\n",
    "x = np.linspace(0.0,100.0,num=500) # generate linear space for x values\n",
    "y = np.linspace(0.0,100.0,num=500)\n",
    "xGrid, yGrid = np.meshgrid(x,y) # generate mesh grid for plotting sample data\n",
    "\n",
    "point1 = np.array([[1.0,\n",
    "                    2.0,\n",
    "                    1.0]])\n",
    "point2 = np.array([[4.0,\n",
    "                    5.0,\n",
    "                    0.0]])\n",
    "point3 = np.array([[10.0,\n",
    "                    1.0,\n",
    "                    3.0]])\n",
    "\n",
    "planeVectorOne = point2 - point1 # a vector within the plane\n",
    "planeVectorTwo = point3 - point2 # a vector within the plane\n",
    "perpendicularVector = np.cross(planeVectorOne, planeVectorTwo) # plane equation coeficients obtained <a,b,c>\n",
    "\n",
    "# print(perpendicularVector)\n",
    "# print(type(perpendicularVector))\n",
    "# print(perpendicularVector.shape)\n",
    "# print(point1.shape)\n",
    "# print(perpendicularVector[0][2])\n",
    "# saving constants to literals\n",
    "a = perpendicularVector[0][0]\n",
    "b = perpendicularVector[0][1]\n",
    "c = perpendicularVector[0][2]\n",
    "xo = point1[0][0]\n",
    "yo = point1[0][1]\n",
    "zo = point1[0][2]\n",
    "\n",
    "# Plane equation a(x-xo)+b(y-yo)+c(z-zo)=0 with isolated z:\n",
    "z = ((-a*(xGrid-xo)-b*(yGrid-yo))/c)+zo"
   ]
  },
  {
   "cell_type": "markdown",
   "metadata": {},
   "source": [
    "## Computing volume given 3 sets of points (x,y,z)"
   ]
  },
  {
   "cell_type": "code",
   "execution_count": 47,
   "metadata": {
    "collapsed": true
   },
   "outputs": [],
   "source": [
    "# Steps:\n",
    "# 1. Compute plane equation from 3 points. 1 plane.\n",
    "# 2. Compute line equations. 3 equations.\n",
    "# 3. Sort them according to distance. A >> B >> C\n",
    "# 4. Volume1 = Double integral xA-xB lineEqAC lineEqAB\n",
    "# 5. Volume2 = Double integral xB-xC lineEqAC lineEqBC\n",
    "# 6. VolumeTotal = Volume1 + Volume2"
   ]
  },
  {
   "cell_type": "code",
   "execution_count": 49,
   "metadata": {
    "collapsed": true
   },
   "outputs": [],
   "source": [
    "# Setting up sample space\n",
    "x = np.linspace(0.0,11.0,num=50) # generate linear space for x values\n",
    "y = np.linspace(0.0,11.0,num=50)\n",
    "xGrid, yGrid = np.meshgrid(x,y) # generate mesh grid for plotting sample data"
   ]
  },
  {
   "cell_type": "code",
   "execution_count": 62,
   "metadata": {
    "collapsed": true
   },
   "outputs": [],
   "source": [
    "# Setting up points in 3D space\n",
    "A = np.array([1.0,\n",
    "              2.0,\n",
    "              1.0])\n",
    "B = np.array([4.0,\n",
    "              5.0,\n",
    "              0.0])\n",
    "C = np.array([10.0,\n",
    "              1.0,\n",
    "              3.0])"
   ]
  },
  {
   "cell_type": "code",
   "execution_count": 63,
   "metadata": {
    "collapsed": true
   },
   "outputs": [],
   "source": [
    "# Setting up plane equation\n",
    "AB = B-A # vector within plane\n",
    "BC = C-B # vector within plane\n",
    "NV = np.cross(AB,BC) # vector that is normal to plane"
   ]
  },
  {
   "cell_type": "code",
   "execution_count": 71,
   "metadata": {},
   "outputs": [
    {
     "name": "stdout",
     "output_type": "stream",
     "text": [
      "The plane equation is 5.0*(x-1.0)+-15.0*(y-2.0)+-30.0*(z-1.0)=0\n"
     ]
    }
   ],
   "source": [
    "# Plane values\n",
    "a = NV[0]\n",
    "b = NV[1]\n",
    "c = NV[2]\n",
    "xo = A[0]\n",
    "yo = A[1]\n",
    "zo = A[2]\n",
    "print(\"The plane equation is {a}*(x-{xo})+{b}*(y-{yo})+{c}*(z-{zo})=0\".format(a=a,b=b,c=c,xo=xo,yo=yo,zo=zo))\n",
    "# With these values, you can fully define the plane equation\n"
   ]
  },
  {
   "cell_type": "code",
   "execution_count": 68,
   "metadata": {},
   "outputs": [
    {
     "name": "stdout",
     "output_type": "stream",
     "text": [
      "The line equation is y = 1.0x + 1.0\n",
      "The line equation is y = -0.6666666666666666x + 7.666666666666666\n",
      "The line equation is y = -0.1111111111111111x + 2.111111111111111\n"
     ]
    }
   ],
   "source": [
    "# computing plane equations\n",
    "slopeAB, constantAB = computeLineEquation(A,B)\n",
    "slopeBC, constantBC = computeLineEquation(B,C)\n",
    "slopeAC, constantAC = computeLineEquation(A,C)"
   ]
  },
  {
   "cell_type": "code",
   "execution_count": 78,
   "metadata": {},
   "outputs": [
    {
     "name": "stdout",
     "output_type": "stream",
     "text": [
      "Total computed volume is 19.999999999999993\n"
     ]
    }
   ],
   "source": [
    "# Compute volumes\n",
    "from scipy import integrate\n",
    "volume1, error1 = integrate.dblquad(lambda y, x: ((-a*(x-xo)-b*(y-yo))/c)+zo, \n",
    "                                    A[0],\n",
    "                                    B[0], \n",
    "                                    lambda x: slopeAC*x+constantAC,\n",
    "                                    lambda x: slopeAB*x+constantAB)\n",
    "volume2, error2 = integrate.dblquad(lambda y, x: ((-a*(x-xo)-b*(y-yo))/c)+zo, \n",
    "                                    B[0],\n",
    "                                    C[0], \n",
    "                                    lambda x: slopeAC*x+constantAC,\n",
    "                                    lambda x: slopeBC*x+constantBC)\n",
    "volumeTotal = volume1+volume2\n",
    "print(\"Total computed volume is {v}\".format(v=volumeTotal))"
   ]
  },
  {
   "cell_type": "markdown",
   "metadata": {},
   "source": [
    "# Running example 2 on z=10"
   ]
  },
  {
   "cell_type": "code",
   "execution_count": 92,
   "metadata": {},
   "outputs": [
    {
     "name": "stdout",
     "output_type": "stream",
     "text": [
      "The plane equation is 0.0*(x-1.0)+0.0*(y-2.0)+-12.0*(z-10.0)=0\n",
      "The line equation is y = 1.5x + 0.5\n",
      "The line equation is y = -1.5x + 9.5\n",
      "The line equation is y = 0.0x + 2.0\n",
      "Total computed volume is 30.000000000000004+30.000000000000007=60.000000000000014\n"
     ]
    }
   ],
   "source": [
    "# Setting up points in 3D space\n",
    "A = np.array([1.0,\n",
    "              2.0,\n",
    "              10.0])\n",
    "B = np.array([3.0,\n",
    "              5.0,\n",
    "              10.0])\n",
    "C = np.array([5.0,\n",
    "              2.0,\n",
    "              10.0])\n",
    "# A = np.array([1.0,\n",
    "#               2.0,\n",
    "#               10.0])\n",
    "# B = np.array([5.0,\n",
    "#               1.0,\n",
    "#               10.0])\n",
    "# C = np.array([5.0,\n",
    "#               5.0,\n",
    "#               10.0])\n",
    "# Setting up plane equation\n",
    "AB = B-A # vector within plane\n",
    "BC = C-B # vector within plane\n",
    "NV = np.cross(AB,BC) # vector that is normal to plane\n",
    "\n",
    "# Plane values\n",
    "a = NV[0]\n",
    "b = NV[1]\n",
    "c = NV[2]\n",
    "xo = A[0]\n",
    "yo = A[1]\n",
    "zo = A[2]\n",
    "print(\"The plane equation is {a}*(x-{xo})+{b}*(y-{yo})+{c}*(z-{zo})=0\".format(a=a,b=b,c=c,xo=xo,yo=yo,zo=zo))\n",
    "# With these values, you can fully define the plane equation\n",
    "# computing plane equations\n",
    "slopeAB, constantAB = computeLineEquation(A,B)\n",
    "slopeBC, constantBC = computeLineEquation(B,C)\n",
    "slopeAC, constantAC = computeLineEquation(A,C)\n",
    "# Compute volumes\n",
    "from scipy import integrate\n",
    "volume1, error1 = integrate.dblquad(lambda y, x: ((-a*(x-xo)-b*(y-yo))/c)+zo, \n",
    "                                    A[0],\n",
    "                                    B[0], \n",
    "                                    lambda x: slopeAC*x+constantAC,\n",
    "                                    lambda x: slopeAB*x+constantAB)\n",
    "volume2, error2 = integrate.dblquad(lambda y, x: ((-a*(x-xo)-b*(y-yo))/c)+zo, \n",
    "                                    B[0],\n",
    "                                    C[0], \n",
    "                                    lambda x: slopeAC*x+constantAC,\n",
    "                                    lambda x: slopeBC*x+constantBC)\n",
    "volumeTotal = volume1+volume2\n",
    "print(\"Total computed volume is {v1}+{v2}={v}\".format(v1=volume1,v2=volume2,v=volumeTotal))\n",
    "# Volume Computed Correctly! :)\n",
    "# Check if it works with line equations like x=3 -- parallel to y axis; Nope! Divide by 0 error. Analysing...\n",
    "# -- when divide by zero occurs, corresponding volume is zero! :) find a way around this on code."
   ]
  }
 ],
 "metadata": {
  "kernelspec": {
   "display_name": "Python 3",
   "language": "python",
   "name": "python3"
  },
  "language_info": {
   "codemirror_mode": {
    "name": "ipython",
    "version": 3
   },
   "file_extension": ".py",
   "mimetype": "text/x-python",
   "name": "python",
   "nbconvert_exporter": "python",
   "pygments_lexer": "ipython3",
   "version": "3.6.1"
  }
 },
 "nbformat": 4,
 "nbformat_minor": 2
}

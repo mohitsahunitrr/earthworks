{
 "cells": [
  {
   "cell_type": "code",
   "execution_count": 34,
   "metadata": {
    "collapsed": true
   },
   "outputs": [],
   "source": [
    "# Imports\n",
    "import math as m\n",
    "import pandas as pd\n",
    "import numpy as np\n",
    "import scipy as sp\n",
    "import os\n",
    "my_plotly_api_key = os.environ.get('MY_PLOTLY_API_KEY') # retrive api_key from operating system\n",
    "import plotly\n",
    "plotly.tools.set_credentials_file(username='agu3rra', api_key=my_plotly_api_key) # setting up credentials; Plotly is an online service.\n",
    "import plotly.plotly as py # import graphics library\n",
    "import plotly.graph_objs as go\n",
    "from scipy import integrate\n",
    "\n",
    "# Data loading\n",
    "dfCoordinates = pd.read_csv('gpsDataUTM.csv') # reads data into dataframe\n",
    "\n",
    "#-----#-----#-----#-----#-----#-----#-----#-----#-----#-----#-----#-----#-----#\n",
    "# Calculate volume of earth from the lowest measured point\n",
    "# Idea: generate training set to a Neural Network and treat it as a regression problem\n",
    "\n",
    "# Part 1: Generate training set\n",
    "# Idea: generate a set of mathematical surface functions z=f(x,y) that go by\n",
    "# close to the points we're getting from GPS. Use these funcitons to generate a\n",
    "# set of (x,y,z) points and a double integral to calculate the exact valume of\n",
    "# the solid delimited by it.\n",
    "\n",
    "# Better idea: maybe the model can generelize from general space, no need to actually find functions that have values close to our sample set.\n",
    "# The only remaining challenge is to select only a subset of points that match the input data size (random selection)"
   ]
  },
  {
   "cell_type": "code",
   "execution_count": 35,
   "metadata": {
    "collapsed": true
   },
   "outputs": [],
   "source": [
    "# Determine bounds of interest\n",
    "x_max = dfCoordinates['x_rel'].max()\n",
    "y_max = dfCoordinates['y_rel'].max()\n",
    "z_max = dfCoordinates['z_rel'].max()"
   ]
  },
  {
   "cell_type": "code",
   "execution_count": 36,
   "metadata": {
    "collapsed": true
   },
   "outputs": [],
   "source": [
    "# Remember: in terrain measurements, all x, y and z values will be positive\n",
    "# Dev note: increasing number of samples may be required\n",
    "x = np.linspace(0.0,x_max,num=1000) # generate linear space for x values\n",
    "y = np.linspace(0.0,y_max,num=1000)\n",
    "xGrid, yGrid = np.meshgrid(x,y) # generate mesh grid for plotting sample data"
   ]
  },
  {
   "cell_type": "code",
   "execution_count": 37,
   "metadata": {
    "scrolled": true
   },
   "outputs": [
    {
     "data": {
      "text/plain": [
       "(1175537925.0989282, 1.3051092707649128e-05)"
      ]
     },
     "execution_count": 37,
     "metadata": {},
     "output_type": "execute_result"
    }
   ],
   "source": [
    "# Generate a equations and corresponding double integrals\n",
    "# Data of interest: functions with variations bounded by 0:*_max values\n",
    "\n",
    "# Dev note: How many double integral evaluations are needed for the model to be able to generalize well? Starting at 1000\n",
    "integrate.dblquad(lambda y, x: 3 + x**2 - 2*y, 0.0, x_max, lambda x: -x, lambda x: x)"
   ]
  },
  {
   "cell_type": "code",
   "execution_count": 45,
   "metadata": {},
   "outputs": [],
   "source": [
    "def combination(n,k): # Combination of n samples taken k at a time.\n",
    "    return m.factorial(n)/(m.factorial(n-k)*m.factorial(k))"
   ]
  },
  {
   "cell_type": "code",
   "execution_count": 48,
   "metadata": {},
   "outputs": [
    {
     "data": {
      "text/plain": [
       "620620.0"
      ]
     },
     "execution_count": 48,
     "metadata": {},
     "output_type": "execute_result"
    }
   ],
   "source": [
    "combination(156,3) # there are 620620 planes defined by all 156 distinct points in my sample data"
   ]
  },
  {
   "cell_type": "code",
   "execution_count": 57,
   "metadata": {
    "collapsed": true
   },
   "outputs": [],
   "source": [
    "def combinations(iterable, r):\n",
    "    # combinations('ABCD', 2) --> AB AC AD BC BD CD\n",
    "    # combinations(range(4), 3) --> 012 013 023 123\n",
    "    pool = tuple(iterable)\n",
    "    n = len(pool)\n",
    "    if r > n:\n",
    "        return\n",
    "    indices = list(range(r))\n",
    "    yield tuple(pool[i] for i in indices)\n",
    "    while True:\n",
    "        for i in reversed(range(r)):\n",
    "            if indices[i] != i + n - r:\n",
    "                break\n",
    "        else:\n",
    "            return\n",
    "        indices[i] += 1\n",
    "        for j in range(i+1, r):\n",
    "            indices[j] = indices[j-1] + 1\n",
    "        yield tuple(pool[i] for i in indices)"
   ]
  },
  {
   "cell_type": "code",
   "execution_count": 61,
   "metadata": {},
   "outputs": [],
   "source": [
    "c = combinations('ABCD',2)"
   ]
  },
  {
   "cell_type": "code",
   "execution_count": 62,
   "metadata": {
    "scrolled": true
   },
   "outputs": [
    {
     "name": "stdout",
     "output_type": "stream",
     "text": [
      "('A', 'B')\n",
      "('A', 'C')\n",
      "('A', 'D')\n",
      "('B', 'C')\n",
      "('B', 'D')\n",
      "('C', 'D')\n"
     ]
    }
   ],
   "source": [
    "for i in c:\n",
    "    print(i)"
   ]
  },
  {
   "cell_type": "code",
   "execution_count": null,
   "metadata": {
    "collapsed": true
   },
   "outputs": [],
   "source": [
    "# return a list with each of the 156 points from pandas dataframe and apply combination\n",
    "# define all plane equations that can be obtained from combination of each point 3 at a time.\n",
    "# evaluate bounded numerical integral of each plane\n",
    "# select a subset of points that match that bounded space on the evaluated integral and match with corresponding volume calculation (double integral result)\n",
    "# Your training set will be comprised of 620.620 sets of 156 points (156x3 = 468 inputs) and corresponding volume.\n",
    "# Train your model on a neural network"
   ]
  }
 ],
 "metadata": {
  "kernelspec": {
   "display_name": "Python 3",
   "language": "python",
   "name": "python3"
  },
  "language_info": {
   "codemirror_mode": {
    "name": "ipython",
    "version": 3
   },
   "file_extension": ".py",
   "mimetype": "text/x-python",
   "name": "python",
   "nbconvert_exporter": "python",
   "pygments_lexer": "ipython3",
   "version": "3.6.1"
  }
 },
 "nbformat": 4,
 "nbformat_minor": 2
}

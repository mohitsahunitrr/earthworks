{
 "cells": [
  {
   "cell_type": "markdown",
   "metadata": {},
   "source": [
    "# Imports"
   ]
  },
  {
   "cell_type": "code",
   "execution_count": 1,
   "metadata": {
    "collapsed": true
   },
   "outputs": [],
   "source": [
    "# Imports\n",
    "import math as m\n",
    "import pandas as pd\n",
    "import numpy as np\n",
    "import scipy as sp\n",
    "import os\n",
    "my_plotly_api_key = os.environ.get('MY_PLOTLY_API_KEY') # retrive api_key from operating system\n",
    "import plotly\n",
    "plotly.tools.set_credentials_file(username='agu3rra', api_key=my_plotly_api_key) # setting up credentials; Plotly is an online service.\n",
    "import plotly.plotly as py # import graphics library\n",
    "import plotly.graph_objs as go\n",
    "from scipy import integrate\n",
    "import random\n",
    "\n",
    "# Data loading\n",
    "dfCoordinates = pd.read_csv('gpsDataUTM.csv') # reads data into dataframe\n",
    "\n",
    "#---a--#-----#-----#-----#-----#-----#-----#-----#-----#-----#-----#-----#-----#\n",
    "# Calculate volume of earth from the lowest measured point\n",
    "# Idea: generate training set to a Neural Network and treat it as a regression problem\n",
    "\n",
    "# Part 1: Generate training set\n",
    "# Idea: generate a set of mathematical surface functions z=f(x,y) that go by\n",
    "# close to the points we're getting from GPS. Use these funcitons to generate a\n",
    "# set of (x,y,z) points and a double integral to calculate the exact valume of\n",
    "# the solid delimited by it.\n",
    "\n",
    "# Better idea: maybe the model can generelize from general space, no need to actually find functions that have values close to our sample set.\n",
    "# The only remaining challenge is to select only a subset of points that match the input data size (random selection)"
   ]
  },
  {
   "cell_type": "markdown",
   "metadata": {},
   "source": [
    "# Main"
   ]
  },
  {
   "cell_type": "code",
   "execution_count": 2,
   "metadata": {
    "collapsed": true
   },
   "outputs": [],
   "source": [
    "# Determine bounds of interest\n",
    "x_max = dfCoordinates['x_rel'].max()\n",
    "y_max = dfCoordinates['y_rel'].max()\n",
    "z_max = dfCoordinates['z_rel'].max()"
   ]
  },
  {
   "cell_type": "code",
   "execution_count": 3,
   "metadata": {
    "collapsed": true
   },
   "outputs": [],
   "source": [
    "# Remember: in terrain measurements, all x, y and z values will be positive\n",
    "# Dev note: increasing number of samples may be required\n",
    "x = np.linspace(0.0,x_max,num=500) # generate linear space for x values\n",
    "y = np.linspace(0.0,y_max,num=500)\n",
    "xGrid, yGrid = np.meshgrid(x,y) # generate mesh grid for plotting sample data"
   ]
  },
  {
   "cell_type": "code",
   "execution_count": 4,
   "metadata": {
    "scrolled": true
   },
   "outputs": [
    {
     "data": {
      "text/plain": [
       "(1175537925.0989282, 1.3051092707649128e-05)"
      ]
     },
     "execution_count": 4,
     "metadata": {},
     "output_type": "execute_result"
    }
   ],
   "source": [
    "# Generate a equations and corresponding double integrals\n",
    "# Data of interest: functions with variations bounded by 0:*_max values\n",
    "\n",
    "# Dev note: How many double integral evaluations are needed for the model to be able to generalize well? Starting at 1000\n",
    "integrate.dblquad(lambda y, x: 3 + x**2 - 2*y, 0.0, x_max, lambda x: -x, lambda x: x)"
   ]
  },
  {
   "cell_type": "code",
   "execution_count": 5,
   "metadata": {
    "collapsed": true
   },
   "outputs": [],
   "source": [
    "def combination(n,k): # Combination of n samples taken k at a time.\n",
    "    return m.factorial(n)/(m.factorial(n-k)*m.factorial(k))"
   ]
  },
  {
   "cell_type": "code",
   "execution_count": 6,
   "metadata": {},
   "outputs": [
    {
     "data": {
      "text/plain": [
       "620620.0"
      ]
     },
     "execution_count": 6,
     "metadata": {},
     "output_type": "execute_result"
    }
   ],
   "source": [
    "combination(156,3) # there are 620620 planes defined by all 156 distinct points in my sample data"
   ]
  },
  {
   "cell_type": "code",
   "execution_count": 7,
   "metadata": {
    "collapsed": true
   },
   "outputs": [],
   "source": [
    "def combinations(iterable, r):\n",
    "    # combinations('ABCD', 2) --> AB AC AD BC BD CD\n",
    "    # combinations(range(4), 3) --> 012 013 023 123\n",
    "    pool = tuple(iterable)\n",
    "    n = len(pool)\n",
    "    if r > n:\n",
    "        return\n",
    "    indices = list(range(r))\n",
    "    yield tuple(pool[i] for i in indices)\n",
    "    while True:\n",
    "        for i in reversed(range(r)):\n",
    "            if indices[i] != i + n - r:\n",
    "                break\n",
    "        else:\n",
    "            return\n",
    "        indices[i] += 1\n",
    "        for j in range(i+1, r):\n",
    "            indices[j] = indices[j-1] + 1\n",
    "        yield tuple(pool[i] for i in indices)"
   ]
  },
  {
   "cell_type": "code",
   "execution_count": 8,
   "metadata": {
    "collapsed": true
   },
   "outputs": [],
   "source": [
    "c = combinations('ABCD',2)"
   ]
  },
  {
   "cell_type": "code",
   "execution_count": 9,
   "metadata": {
    "scrolled": true
   },
   "outputs": [
    {
     "name": "stdout",
     "output_type": "stream",
     "text": [
      "('A', 'B')\n",
      "('A', 'C')\n",
      "('A', 'D')\n",
      "('B', 'C')\n",
      "('B', 'D')\n",
      "('C', 'D')\n"
     ]
    }
   ],
   "source": [
    "for i in c:\n",
    "    print(i)"
   ]
  },
  {
   "cell_type": "code",
   "execution_count": 10,
   "metadata": {
    "collapsed": true
   },
   "outputs": [],
   "source": [
    "# return a list with each of the 156 points from pandas dataframe and apply combination\n",
    "# define all plane equations that can be obtained from combination of each point 3 at a time.\n",
    "# evaluate bounded numerical integral of each plane\n",
    "# select a subset of points that match that bounded space on the evaluated integral and match with corresponding volume calculation (double integral result)\n",
    "# Your training set will be comprised of 620.620 sets of 156 points (156x3 = 468 inputs) and corresponding volume.\n",
    "# Train your model on a neural network"
   ]
  },
  {
   "cell_type": "markdown",
   "metadata": {},
   "source": [
    "# Sample: Generating plane equation from 3 points"
   ]
  },
  {
   "cell_type": "code",
   "execution_count": 11,
   "metadata": {
    "collapsed": true
   },
   "outputs": [],
   "source": [
    "# Sample code: generate the plane equation of any 3 points available at the GPS dataframe"
   ]
  },
  {
   "cell_type": "code",
   "execution_count": 12,
   "metadata": {
    "collapsed": true
   },
   "outputs": [],
   "source": [
    "A = np.array([dfCoordinates.iloc[2].values[5],\n",
    "              dfCoordinates.iloc[2].values[6],\n",
    "              dfCoordinates.iloc[2].values[7]])"
   ]
  },
  {
   "cell_type": "code",
   "execution_count": 13,
   "metadata": {
    "collapsed": true
   },
   "outputs": [],
   "source": [
    "B = np.array([dfCoordinates.iloc[20].values[5],\n",
    "              dfCoordinates.iloc[20].values[6],\n",
    "              dfCoordinates.iloc[20].values[7]])"
   ]
  },
  {
   "cell_type": "code",
   "execution_count": 14,
   "metadata": {
    "collapsed": true
   },
   "outputs": [],
   "source": [
    "C = np.array([dfCoordinates.iloc[60].values[5],\n",
    "              dfCoordinates.iloc[60].values[6],\n",
    "              dfCoordinates.iloc[60].values[7]])"
   ]
  },
  {
   "cell_type": "code",
   "execution_count": 15,
   "metadata": {
    "collapsed": true
   },
   "outputs": [],
   "source": [
    "# A, B and C are relative coordinates collected from the GPS survey"
   ]
  },
  {
   "cell_type": "code",
   "execution_count": 16,
   "metadata": {
    "collapsed": true
   },
   "outputs": [],
   "source": [
    "# Plane equation: a(x-xo) + b(y-yo) + c(z-zo) = 0\n",
    "# , where [xo,yo,zo] is a point in the plane (so A, B or C can be used)\n",
    "# [a,b,c] is a vector perpendicular to the plane (it can be obtained from the cross product of any 2 vectors within the plane)"
   ]
  },
  {
   "cell_type": "code",
   "execution_count": 17,
   "metadata": {
    "collapsed": true
   },
   "outputs": [],
   "source": [
    "AB = B-A # Vector AB is within the desired plane"
   ]
  },
  {
   "cell_type": "code",
   "execution_count": 18,
   "metadata": {
    "scrolled": true
   },
   "outputs": [
    {
     "name": "stdout",
     "output_type": "stream",
     "text": [
      "[ 214.019258     98.79277407   14.14      ]\n",
      "[  0.0209151   14.59788367   9.47      ]\n",
      "[-213.9983429  -84.1948904   -4.67     ]\n",
      "<class 'numpy.ndarray'>\n"
     ]
    }
   ],
   "source": [
    "print(A)\n",
    "print(B)\n",
    "print(AB)\n",
    "print(type(AB))"
   ]
  },
  {
   "cell_type": "code",
   "execution_count": 19,
   "metadata": {
    "collapsed": true
   },
   "outputs": [],
   "source": [
    "BC = C-B # Vector BC is also within the plane"
   ]
  },
  {
   "cell_type": "code",
   "execution_count": 20,
   "metadata": {
    "collapsed": true
   },
   "outputs": [],
   "source": [
    "VP = np.cross(AB,BC) # VP is a vector perpendicular to the desired plane"
   ]
  },
  {
   "cell_type": "code",
   "execution_count": 21,
   "metadata": {},
   "outputs": [
    {
     "data": {
      "text/plain": [
       "array([  164.82014359,  -494.98349017,  1371.27261237])"
      ]
     },
     "execution_count": 21,
     "metadata": {},
     "output_type": "execute_result"
    }
   ],
   "source": [
    "VP # VP contains a,b,c values of the plane equation"
   ]
  },
  {
   "cell_type": "code",
   "execution_count": 22,
   "metadata": {
    "collapsed": true
   },
   "outputs": [],
   "source": [
    "# Plotting plane:\n",
    "\n",
    "# Equation coeficients and point within plane\n",
    "a = VP[0]\n",
    "b = VP[1]\n",
    "c = VP[2]\n",
    "xo = A[0]\n",
    "yo = A[1]\n",
    "zo = A[2]"
   ]
  },
  {
   "cell_type": "code",
   "execution_count": 23,
   "metadata": {
    "collapsed": true
   },
   "outputs": [],
   "source": [
    "z = ((-a*(xGrid-xo)-b*(yGrid-yo))/c)+zo # plane equation"
   ]
  },
  {
   "cell_type": "code",
   "execution_count": 24,
   "metadata": {},
   "outputs": [
    {
     "data": {
      "text/plain": [
       "(500, 500)"
      ]
     },
     "execution_count": 24,
     "metadata": {},
     "output_type": "execute_result"
    }
   ],
   "source": [
    "z.shape"
   ]
  },
  {
   "cell_type": "code",
   "execution_count": 25,
   "metadata": {},
   "outputs": [
    {
     "data": {
      "text/html": [
       "<iframe id=\"igraph\" scrolling=\"no\" style=\"border:none;\" seamless=\"seamless\" src=\"https://plot.ly/~agu3rra/20.embed\" height=\"525px\" width=\"100%\"></iframe>"
      ],
      "text/plain": [
       "<plotly.tools.PlotlyDisplay object>"
      ]
     },
     "execution_count": 25,
     "metadata": {},
     "output_type": "execute_result"
    }
   ],
   "source": [
    "surface = go.Surface(x=x, y=y, z=z)\n",
    "\n",
    "xPoints = [A[0], B[0], C[0]]\n",
    "yPoints = [A[1], B[1], C[1]]\n",
    "zPoints = [A[2], B[2], C[2]]\n",
    "\n",
    "points = go.Scatter3d(x=xPoints,\n",
    "                    y=yPoints,\n",
    "                    z=zPoints,\n",
    "                    mode='markers',\n",
    "                    marker=dict(size=5,opacity=0.8))\n",
    "data = [surface, points]\n",
    "\n",
    "layoutDictionary = dict(gridcolor='rgb(255, 255, 255)',\n",
    "                        zerolinecolor='rgb(255, 255, 255)',\n",
    "                        showbackground=True,\n",
    "                        backgroundcolor='rgb(230, 230,230)')\n",
    "\n",
    "layout = go.Layout(\n",
    "    title='Plane Plot',\n",
    "    scene=dict(\n",
    "        xaxis=layoutDictionary,\n",
    "        yaxis=layoutDictionary,\n",
    "        zaxis=layoutDictionary\n",
    "    )\n",
    ")\n",
    "\n",
    "fig = go.Figure(data=data, layout=layout)\n",
    "py.iplot(fig, filename='Plane plot')"
   ]
  },
  {
   "cell_type": "markdown",
   "metadata": {},
   "source": [
    "# Plotting a cube and testing double integral volume calculation"
   ]
  },
  {
   "cell_type": "code",
   "execution_count": 26,
   "metadata": {},
   "outputs": [
    {
     "data": {
      "text/html": [
       "<iframe id=\"igraph\" scrolling=\"no\" style=\"border:none;\" seamless=\"seamless\" src=\"https://plot.ly/~agu3rra/22.embed\" height=\"525px\" width=\"100%\"></iframe>"
      ],
      "text/plain": [
       "<plotly.tools.PlotlyDisplay object>"
      ]
     },
     "execution_count": 26,
     "metadata": {},
     "output_type": "execute_result"
    }
   ],
   "source": [
    "# Defining a cuboid of 5x4x10 (Volume = 200)\n",
    "A = np.array([5,0,10])\n",
    "B = np.array([0,4,10])\n",
    "C = np.array([5,4,10])\n",
    "AB = B-A # Vector AB is within the desired plane\n",
    "BC = C-B # Vector AB is within the desired plane\n",
    "VP = np.cross(AB,BC) # perpendicular vector\n",
    "# Equation coeficients and point within plane\n",
    "a = VP[0]\n",
    "b = VP[1]\n",
    "c = VP[2]\n",
    "xo = A[0]\n",
    "yo = A[1]\n",
    "zo = A[2]\n",
    "z = ((-a*(xGrid-xo)-b*(yGrid-yo))/c)+zo # plane equation\n",
    "surface = go.Surface(x=x, y=y, z=z)\n",
    "\n",
    "xPoints = [A[0], B[0], C[0]]\n",
    "yPoints = [A[1], B[1], C[1]]\n",
    "zPoints = [A[2], B[2], C[2]]\n",
    "\n",
    "points = go.Scatter3d(x=xPoints,\n",
    "                    y=yPoints,\n",
    "                    z=zPoints,\n",
    "                    mode='markers',\n",
    "                    marker=dict(size=5,opacity=0.8))\n",
    "data = [surface, points]\n",
    "\n",
    "layoutDictionary = dict(gridcolor='rgb(255, 255, 255)',\n",
    "                        zerolinecolor='rgb(255, 255, 255)',\n",
    "                        showbackground=True,\n",
    "                        backgroundcolor='rgb(230, 230,230)')\n",
    "\n",
    "layout = go.Layout(\n",
    "    title='Cubic Plot',\n",
    "    scene=dict(\n",
    "        xaxis=layoutDictionary,\n",
    "        yaxis=layoutDictionary,\n",
    "        zaxis=layoutDictionary\n",
    "    )\n",
    ")\n",
    "\n",
    "fig = go.Figure(data=data, layout=layout)\n",
    "py.iplot(fig, filename='Cubic plot')"
   ]
  },
  {
   "cell_type": "code",
   "execution_count": 27,
   "metadata": {},
   "outputs": [
    {
     "data": {
      "text/plain": [
       "(200.0, 2.220446049250313e-12)"
      ]
     },
     "execution_count": 27,
     "metadata": {},
     "output_type": "execute_result"
    }
   ],
   "source": [
    "# Calculating corresponding volume with double integral.\n",
    "# Expected value: 200\n",
    "integrate.dblquad(lambda y, x: ((-a*(x-xo)-b*(y-yo))/c)+zo, 0.0, 5.0, lambda x: 0.0, lambda x: 4.0)"
   ]
  },
  {
   "cell_type": "code",
   "execution_count": 28,
   "metadata": {
    "collapsed": true
   },
   "outputs": [],
   "source": [
    "# Success! The above code shows us how to define a plane and calculate the corresponding volume of a bounded shape."
   ]
  },
  {
   "cell_type": "markdown",
   "metadata": {},
   "source": [
    "# Main: resuming code"
   ]
  },
  {
   "cell_type": "code",
   "execution_count": 29,
   "metadata": {
    "collapsed": true
   },
   "outputs": [],
   "source": [
    "# return a list with each of the 155 points from pandas dataframe and apply combination\n",
    "# define all plane equations that can be obtained from combination of each point 3 at a time.\n",
    "dfSurvey = dfCoordinates[['x_rel',\n",
    "                          'y_rel',\n",
    "                          'z_rel']]"
   ]
  },
  {
   "cell_type": "code",
   "execution_count": 30,
   "metadata": {},
   "outputs": [
    {
     "data": {
      "text/html": [
       "<div>\n",
       "<style>\n",
       "    .dataframe thead tr:only-child th {\n",
       "        text-align: right;\n",
       "    }\n",
       "\n",
       "    .dataframe thead th {\n",
       "        text-align: left;\n",
       "    }\n",
       "\n",
       "    .dataframe tbody tr th {\n",
       "        vertical-align: top;\n",
       "    }\n",
       "</style>\n",
       "<table border=\"1\" class=\"dataframe\">\n",
       "  <thead>\n",
       "    <tr style=\"text-align: right;\">\n",
       "      <th></th>\n",
       "      <th>x_rel</th>\n",
       "      <th>y_rel</th>\n",
       "      <th>z_rel</th>\n",
       "    </tr>\n",
       "  </thead>\n",
       "  <tbody>\n",
       "    <tr>\n",
       "      <th>0</th>\n",
       "      <td>213.860510</td>\n",
       "      <td>127.527218</td>\n",
       "      <td>14.12</td>\n",
       "    </tr>\n",
       "    <tr>\n",
       "      <th>1</th>\n",
       "      <td>213.700623</td>\n",
       "      <td>127.211200</td>\n",
       "      <td>14.12</td>\n",
       "    </tr>\n",
       "    <tr>\n",
       "      <th>2</th>\n",
       "      <td>214.019258</td>\n",
       "      <td>98.792774</td>\n",
       "      <td>14.14</td>\n",
       "    </tr>\n",
       "    <tr>\n",
       "      <th>3</th>\n",
       "      <td>214.261816</td>\n",
       "      <td>70.346291</td>\n",
       "      <td>11.64</td>\n",
       "    </tr>\n",
       "    <tr>\n",
       "      <th>4</th>\n",
       "      <td>217.136937</td>\n",
       "      <td>44.608228</td>\n",
       "      <td>9.87</td>\n",
       "    </tr>\n",
       "  </tbody>\n",
       "</table>\n",
       "</div>"
      ],
      "text/plain": [
       "        x_rel       y_rel  z_rel\n",
       "0  213.860510  127.527218  14.12\n",
       "1  213.700623  127.211200  14.12\n",
       "2  214.019258   98.792774  14.14\n",
       "3  214.261816   70.346291  11.64\n",
       "4  217.136937   44.608228   9.87"
      ]
     },
     "execution_count": 30,
     "metadata": {},
     "output_type": "execute_result"
    }
   ],
   "source": [
    "dfSurvey.head()"
   ]
  },
  {
   "cell_type": "code",
   "execution_count": 31,
   "metadata": {
    "collapsed": true
   },
   "outputs": [],
   "source": [
    "pointsCount = int(dfSurvey.count()[0]) # number of points available"
   ]
  },
  {
   "cell_type": "code",
   "execution_count": 32,
   "metadata": {},
   "outputs": [
    {
     "data": {
      "text/plain": [
       "608685.0"
      ]
     },
     "execution_count": 32,
     "metadata": {},
     "output_type": "execute_result"
    }
   ],
   "source": [
    "combination(155,3) # number of possible combinations"
   ]
  },
  {
   "cell_type": "code",
   "execution_count": 60,
   "metadata": {
    "collapsed": true,
    "scrolled": false
   },
   "outputs": [],
   "source": [
    "planeCombinations = combinations(range(pointsCount),3) # indexes all possible combinations of available points\n",
    "# DEBUG planeCombinations = combinations(range(4),3) # reducing set for debugging\n",
    "\n",
    "mlDataset = pd.DataFrame([]) # initialize new dataframe for the machine learning dataset\n",
    "# Determine plane equation for each set of 3 points and calculate corresponding volume\n",
    "for pointSet in planeCombinations:\n",
    "    point1index = pointSet[0] # index of the first point\n",
    "    point2index = pointSet[1]\n",
    "    point3index = pointSet[2]\n",
    "    \n",
    "    # fetching actual points according to index\n",
    "    point1 = np.array([dfSurvey.iloc[point1index].values[0],\n",
    "                       dfSurvey.iloc[point1index].values[1],\n",
    "                       dfSurvey.iloc[point1index].values[2]])\n",
    "    point2 = np.array([dfSurvey.iloc[point2index].values[0],\n",
    "                       dfSurvey.iloc[point2index].values[1],\n",
    "                       dfSurvey.iloc[point2index].values[2]])    \n",
    "    point3 = np.array([dfSurvey.iloc[point3index].values[0],\n",
    "                       dfSurvey.iloc[point3index].values[1],\n",
    "                       dfSurvey.iloc[point3index].values[2]])\n",
    "    \n",
    "    planeVectorOne = point2 - point1 # a vector within the plane\n",
    "    planeVectorTwo = point3 - point2 # a vector within the plane\n",
    "    perpendicularVector = np.cross(planeVectorOne, planeVectorTwo) # plane equation coeficients obtained <a,b,c>\n",
    "\n",
    "    # saving constants to literals\n",
    "    a = perpendicularVector[0]\n",
    "    b = perpendicularVector[1]\n",
    "    c = perpendicularVector[2]\n",
    "    xo = point1[0]\n",
    "    yo = point1[1]\n",
    "    zo = point1[2]\n",
    "    \n",
    "    # Plane equation a(x-xo)+b(y-yo)+c(z-zo)=0 with isolated z:\n",
    "    z = ((-a*(xGrid-xo)-b*(yGrid-yo))/c)+zo\n",
    "    \n",
    "    pointsInGrid = z.shape[0]\n",
    "    evalutePoints = pointsInGrid - pointsCount # evaluate number of available points within your grid - samples from GPS\n",
    "    if evalutePoints>0: # normal scenario\n",
    "        randomIndexesX = random.sample(range(pointsInGrid), pointsCount) # generate random list of x points, where x is the number of points collected by the GPS\n",
    "        randomIndexesY = random.sample(range(pointsInGrid), pointsCount)\n",
    "    else: # your grid has less points than colleted from the GPS survey. Increase grid size\n",
    "        print(\"Your grid has %s points less than required. Increase grid size.\" % evaluatePoints)\n",
    "\n",
    "    mlSample = pd.DataFrame([]) # initialize new dataframe for sample storage\n",
    "    \n",
    "    for i in range(pointsCount):\n",
    "        x_value = xGrid[randomIndexesX[i]][randomIndexesX[i]] # obtain value of corresponding random value from the xGrid\n",
    "        y_value = yGrid[randomIndexesY[i]][randomIndexesY[i]]\n",
    "        z_value = z[randomIndexesX[i]][randomIndexesY[i]] # Corresponding z value evaluated for x,y\n",
    "\n",
    "        # append data to dataframe\n",
    "        samplePoint = pd.Series(dict(x=x_value,\n",
    "                                     y=y_value,\n",
    "                                     z=z_value))\n",
    "        mlSample = mlSample.append(samplePoint,\n",
    "                                   ignore_index=True) # append newly converted data to dataframe\n",
    "\n",
    "    # the dfTrainingSample contains a set of points for which we need to evaluate the corresponding bounds and volume    \n",
    "    # evaluate max and min bounds\n",
    "    x_min = mlSample['x'].min()\n",
    "    x_max = mlSample['x'].max()\n",
    "    y_min = mlSample['y'].min()\n",
    "    y_max = mlSample['y'].max()\n",
    "    # evaluating bounds for z is not required for evaluating the double integral (plane equation is used for z)\n",
    "    \n",
    "    # Evaluating corresponding volume for this point set\n",
    "    volume = integrate.dblquad(lambda y, x: ((-a*(x-xo)-b*(y-yo))/c)+zo, \n",
    "                               x_min, x_max, \n",
    "                               lambda x: y_min, lambda x: y_max)\n",
    "    volume = volume[0] # saving the computed volume. The second element in the list holds the error.\n",
    "#     print(dfTrainingSample.head())\n",
    "#     print(volume)\n",
    "    # at this point of the code we have a dataframe with corresponding points in a plane and a corresponding volume.\n",
    "    # This is a sample! We made one! Now on to saving it in a format compatible with the neural network\n",
    "    # Saving training sample: for 155 data points >> row = 466 elements all x's, all y's, all z's + volume\n",
    "    # append data to mlDataset\n",
    "    \n",
    "    #create numpy array to store in mlDataframe (single row)\n",
    "    sampleData = np.concatenate([mlSample['x'].values,\n",
    "                                 mlSample['y'].values,\n",
    "                                 mlSample['z'].values])\n",
    "    datasetSample = pd.Series(dict(inputData = sampleData,\n",
    "                                   inputLabel = volume))\n",
    "    mlDataset = mlDataset.append(datasetSample,\n",
    "                                 ignore_index=True)\n",
    "\n",
    "\n",
    "# Debugging        \n",
    "#     print(\"Here's a point in the <x,y,z> grid:\")\n",
    "#     print(xGrid[randomIndex][randomIndex])\n",
    "#     print(yGrid[randomIndex][randomIndex])\n",
    "#     print(z[randomIndex][randomIndex])\n",
    "#     print(\"%s %s %s\" % (a, b, c))\n",
    "#     print(point1)\n",
    "\n",
    "# Create dataframe from list of indexed random samples\n",
    "\n"
   ]
  },
  {
   "cell_type": "code",
   "execution_count": 62,
   "metadata": {},
   "outputs": [],
   "source": [
    "mlDataset.to_csv('mlDataset.csv',index=False) # save to file"
   ]
  },
  {
   "cell_type": "code",
   "execution_count": 63,
   "metadata": {
    "collapsed": true
   },
   "outputs": [],
   "source": [
    "dfNew = pd.read_csv('mlDataset.csv')"
   ]
  },
  {
   "cell_type": "code",
   "execution_count": 64,
   "metadata": {},
   "outputs": [
    {
     "data": {
      "text/html": [
       "<div>\n",
       "<style>\n",
       "    .dataframe thead tr:only-child th {\n",
       "        text-align: right;\n",
       "    }\n",
       "\n",
       "    .dataframe thead th {\n",
       "        text-align: left;\n",
       "    }\n",
       "\n",
       "    .dataframe tbody tr th {\n",
       "        vertical-align: top;\n",
       "    }\n",
       "</style>\n",
       "<table border=\"1\" class=\"dataframe\">\n",
       "  <thead>\n",
       "    <tr style=\"text-align: right;\">\n",
       "      <th></th>\n",
       "      <th>inputData</th>\n",
       "      <th>inputLabel</th>\n",
       "    </tr>\n",
       "  </thead>\n",
       "  <tbody>\n",
       "    <tr>\n",
       "      <th>0</th>\n",
       "      <td>[  77.22194358  202.54212629    0.8825365   13...</td>\n",
       "      <td>5.884609e+05</td>\n",
       "    </tr>\n",
       "    <tr>\n",
       "      <th>1</th>\n",
       "      <td>[   6.17775549    0.8825365   135.91062069   2...</td>\n",
       "      <td>8.986781e+05</td>\n",
       "    </tr>\n",
       "    <tr>\n",
       "      <th>2</th>\n",
       "      <td>[  1.95481834e+02   1.29291597e+02   1.6194544...</td>\n",
       "      <td>1.308210e+08</td>\n",
       "    </tr>\n",
       "    <tr>\n",
       "      <th>3</th>\n",
       "      <td>[  1.79596177e+02   8.51647721e+01   2.6476094...</td>\n",
       "      <td>-1.429454e+08</td>\n",
       "    </tr>\n",
       "  </tbody>\n",
       "</table>\n",
       "</div>"
      ],
      "text/plain": [
       "                                           inputData    inputLabel\n",
       "0  [  77.22194358  202.54212629    0.8825365   13...  5.884609e+05\n",
       "1  [   6.17775549    0.8825365   135.91062069   2...  8.986781e+05\n",
       "2  [  1.95481834e+02   1.29291597e+02   1.6194544...  1.308210e+08\n",
       "3  [  1.79596177e+02   8.51647721e+01   2.6476094... -1.429454e+08"
      ]
     },
     "execution_count": 64,
     "metadata": {},
     "output_type": "execute_result"
    }
   ],
   "source": [
    "dfNew"
   ]
  },
  {
   "cell_type": "code",
   "execution_count": 65,
   "metadata": {
    "scrolled": true
   },
   "outputs": [
    {
     "data": {
      "text/html": [
       "<div>\n",
       "<style>\n",
       "    .dataframe thead tr:only-child th {\n",
       "        text-align: right;\n",
       "    }\n",
       "\n",
       "    .dataframe thead th {\n",
       "        text-align: left;\n",
       "    }\n",
       "\n",
       "    .dataframe tbody tr th {\n",
       "        vertical-align: top;\n",
       "    }\n",
       "</style>\n",
       "<table border=\"1\" class=\"dataframe\">\n",
       "  <thead>\n",
       "    <tr style=\"text-align: right;\">\n",
       "      <th></th>\n",
       "      <th>inputData</th>\n",
       "      <th>inputLabel</th>\n",
       "    </tr>\n",
       "  </thead>\n",
       "  <tbody>\n",
       "    <tr>\n",
       "      <th>0</th>\n",
       "      <td>[77.2219435756, 202.542126293, 0.882536498007,...</td>\n",
       "      <td>5.884609e+05</td>\n",
       "    </tr>\n",
       "    <tr>\n",
       "      <th>1</th>\n",
       "      <td>[6.17775548605, 0.882536498007, 135.910620693,...</td>\n",
       "      <td>8.986781e+05</td>\n",
       "    </tr>\n",
       "    <tr>\n",
       "      <th>2</th>\n",
       "      <td>[195.481834309, 129.291596958, 161.945447384, ...</td>\n",
       "      <td>1.308210e+08</td>\n",
       "    </tr>\n",
       "    <tr>\n",
       "      <th>3</th>\n",
       "      <td>[179.596177344, 85.1647720577, 2.64760949402, ...</td>\n",
       "      <td>-1.429454e+08</td>\n",
       "    </tr>\n",
       "  </tbody>\n",
       "</table>\n",
       "</div>"
      ],
      "text/plain": [
       "                                           inputData    inputLabel\n",
       "0  [77.2219435756, 202.542126293, 0.882536498007,...  5.884609e+05\n",
       "1  [6.17775548605, 0.882536498007, 135.910620693,...  8.986781e+05\n",
       "2  [195.481834309, 129.291596958, 161.945447384, ...  1.308210e+08\n",
       "3  [179.596177344, 85.1647720577, 2.64760949402, ... -1.429454e+08"
      ]
     },
     "execution_count": 65,
     "metadata": {},
     "output_type": "execute_result"
    }
   ],
   "source": [
    "mlDataset"
   ]
  },
  {
   "cell_type": "code",
   "execution_count": 66,
   "metadata": {
    "collapsed": true
   },
   "outputs": [],
   "source": [
    "# Saving to CSV doesn't exactly read right when trying to import. I am going to pickle it.\n",
    "import pickle\n",
    "file = open('mlDataset.pickle', 'wb')\n",
    "pickle.dump(mlDataset, file)\n",
    "file.close()"
   ]
  },
  {
   "cell_type": "code",
   "execution_count": 67,
   "metadata": {
    "collapsed": true
   },
   "outputs": [],
   "source": [
    "# recovering data\n",
    "file = open('mlDataset.pickle', 'rb')\n",
    "pickledDataset = pickle.load(file)\n",
    "file.close()"
   ]
  },
  {
   "cell_type": "code",
   "execution_count": 68,
   "metadata": {},
   "outputs": [
    {
     "data": {
      "text/html": [
       "<div>\n",
       "<style>\n",
       "    .dataframe thead tr:only-child th {\n",
       "        text-align: right;\n",
       "    }\n",
       "\n",
       "    .dataframe thead th {\n",
       "        text-align: left;\n",
       "    }\n",
       "\n",
       "    .dataframe tbody tr th {\n",
       "        vertical-align: top;\n",
       "    }\n",
       "</style>\n",
       "<table border=\"1\" class=\"dataframe\">\n",
       "  <thead>\n",
       "    <tr style=\"text-align: right;\">\n",
       "      <th></th>\n",
       "      <th>inputData</th>\n",
       "      <th>inputLabel</th>\n",
       "    </tr>\n",
       "  </thead>\n",
       "  <tbody>\n",
       "    <tr>\n",
       "      <th>0</th>\n",
       "      <td>[77.2219435756, 202.542126293, 0.882536498007,...</td>\n",
       "      <td>5.884609e+05</td>\n",
       "    </tr>\n",
       "    <tr>\n",
       "      <th>1</th>\n",
       "      <td>[6.17775548605, 0.882536498007, 135.910620693,...</td>\n",
       "      <td>8.986781e+05</td>\n",
       "    </tr>\n",
       "    <tr>\n",
       "      <th>2</th>\n",
       "      <td>[195.481834309, 129.291596958, 161.945447384, ...</td>\n",
       "      <td>1.308210e+08</td>\n",
       "    </tr>\n",
       "    <tr>\n",
       "      <th>3</th>\n",
       "      <td>[179.596177344, 85.1647720577, 2.64760949402, ...</td>\n",
       "      <td>-1.429454e+08</td>\n",
       "    </tr>\n",
       "  </tbody>\n",
       "</table>\n",
       "</div>"
      ],
      "text/plain": [
       "                                           inputData    inputLabel\n",
       "0  [77.2219435756, 202.542126293, 0.882536498007,...  5.884609e+05\n",
       "1  [6.17775548605, 0.882536498007, 135.910620693,...  8.986781e+05\n",
       "2  [195.481834309, 129.291596958, 161.945447384, ...  1.308210e+08\n",
       "3  [179.596177344, 85.1647720577, 2.64760949402, ... -1.429454e+08"
      ]
     },
     "execution_count": 68,
     "metadata": {},
     "output_type": "execute_result"
    }
   ],
   "source": [
    "pickledDataset"
   ]
  },
  {
   "cell_type": "code",
   "execution_count": 37,
   "metadata": {
    "scrolled": true
   },
   "outputs": [
    {
     "name": "stdout",
     "output_type": "stream",
     "text": [
      "High five! You successfuly sent some data to your account on plotly. View your plot in your browser at https://plot.ly/~agu3rra/0 or inside your plot.ly account where it is named 'simple-3d-scatter'\n"
     ]
    },
    {
     "data": {
      "text/html": [
       "<iframe id=\"igraph\" scrolling=\"no\" style=\"border:none;\" seamless=\"seamless\" src=\"https://plot.ly/~agu3rra/0.embed\" height=\"525px\" width=\"100%\"></iframe>"
      ],
      "text/plain": [
       "<plotly.tools.PlotlyDisplay object>"
      ]
     },
     "execution_count": 37,
     "metadata": {},
     "output_type": "execute_result"
    }
   ],
   "source": [
    "trace1 = go.Scatter3d(\n",
    "    x=dfTrainingSample['x'].values,\n",
    "    y=dfTrainingSample['y'].values,\n",
    "    z=dfTrainingSample['z'].values,\n",
    "    mode='markers',\n",
    "    marker=dict(\n",
    "        size=5,\n",
    "        line=dict(\n",
    "            color='rgba(217, 217, 217, 0.14)',\n",
    "            width=0.5\n",
    "        ),\n",
    "        opacity=0.8\n",
    "    )\n",
    ")\n",
    "\n",
    "data = [trace1]\n",
    "layout = go.Layout(\n",
    "    margin=dict(\n",
    "        l=0,\n",
    "        r=0,\n",
    "        b=0,\n",
    "        t=0\n",
    "    )\n",
    ")\n",
    "fig = go.Figure(data=data, layout=layout)\n",
    "py.iplot(fig, filename='simple-3d-scatter')"
   ]
  },
  {
   "cell_type": "code",
   "execution_count": 110,
   "metadata": {},
   "outputs": [
    {
     "data": {
      "text/plain": [
       "(500, 500)"
      ]
     },
     "execution_count": 110,
     "metadata": {},
     "output_type": "execute_result"
    }
   ],
   "source": [
    "xGrid.shape"
   ]
  }
 ],
 "metadata": {
  "kernelspec": {
   "display_name": "Python 3",
   "language": "python",
   "name": "python3"
  },
  "language_info": {
   "codemirror_mode": {
    "name": "ipython",
    "version": 3
   },
   "file_extension": ".py",
   "mimetype": "text/x-python",
   "name": "python",
   "nbconvert_exporter": "python",
   "pygments_lexer": "ipython3",
   "version": "3.6.1"
  }
 },
 "nbformat": 4,
 "nbformat_minor": 2
}

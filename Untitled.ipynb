{
 "cells": [
  {
   "cell_type": "code",
   "execution_count": 1,
   "metadata": {
    "collapsed": true
   },
   "outputs": [],
   "source": [
    "from functionDefinitions import *\n",
    "dfCoordinates = pd.read_csv('gpsDataUTM.csv') # reads data into dataframe"
   ]
  },
  {
   "cell_type": "code",
   "execution_count": 32,
   "metadata": {},
   "outputs": [
    {
     "data": {
      "text/plain": [
       "92"
      ]
     },
     "execution_count": 32,
     "metadata": {},
     "output_type": "execute_result"
    }
   ],
   "source": [
    "df1 = dfCoordinates[(dfCoordinates['z_rel'] >= 10.0)]\n",
    "df2 = dfCoordinates[(dfCoordinates['z_rel'] < 10.0)]\n",
    "df1['x'].count()"
   ]
  },
  {
   "cell_type": "code",
   "execution_count": 20,
   "metadata": {},
   "outputs": [
    {
     "data": {
      "text/plain": [
       "63"
      ]
     },
     "execution_count": 20,
     "metadata": {},
     "output_type": "execute_result"
    }
   ],
   "source": [
    "df2['x'].count()"
   ]
  },
  {
   "cell_type": "code",
   "execution_count": 22,
   "metadata": {},
   "outputs": [
    {
     "data": {
      "text/plain": [
       "155"
      ]
     },
     "execution_count": 22,
     "metadata": {},
     "output_type": "execute_result"
    }
   ],
   "source": [
    "dfCoordinates['x'].count()"
   ]
  },
  {
   "cell_type": "code",
   "execution_count": 25,
   "metadata": {},
   "outputs": [
    {
     "data": {
      "text/plain": [
       "10.019999999999982"
      ]
     },
     "execution_count": 25,
     "metadata": {},
     "output_type": "execute_result"
    }
   ],
   "source": [
    "df1['z_rel'].min()"
   ]
  },
  {
   "cell_type": "code",
   "execution_count": 33,
   "metadata": {},
   "outputs": [
    {
     "data": {
      "text/plain": [
       "0      4.12\n",
       "1      4.12\n",
       "2      4.14\n",
       "3      1.64\n",
       "21     1.02\n",
       "22     2.69\n",
       "23     5.12\n",
       "24     5.12\n",
       "25     5.87\n",
       "26     6.88\n",
       "27     7.64\n",
       "28     7.65\n",
       "29     7.68\n",
       "30     7.69\n",
       "31     7.68\n",
       "32     7.65\n",
       "33     7.65\n",
       "34     5.35\n",
       "35     4.44\n",
       "36     4.44\n",
       "37     4.45\n",
       "38     3.65\n",
       "39     3.68\n",
       "40     6.04\n",
       "41     6.04\n",
       "42     6.91\n",
       "43     8.49\n",
       "44     8.50\n",
       "45     8.51\n",
       "46     5.54\n",
       "       ... \n",
       "98     6.39\n",
       "99     6.45\n",
       "100    6.47\n",
       "101    6.41\n",
       "102    6.40\n",
       "103    6.39\n",
       "104    6.34\n",
       "105    3.67\n",
       "106    2.91\n",
       "107    2.04\n",
       "108    1.17\n",
       "109    0.36\n",
       "133    0.21\n",
       "134    1.69\n",
       "135    1.71\n",
       "136    2.48\n",
       "137    3.36\n",
       "138    3.35\n",
       "139    3.33\n",
       "140    3.34\n",
       "141    3.31\n",
       "142    3.32\n",
       "143    3.34\n",
       "144    3.35\n",
       "145    3.36\n",
       "146    3.35\n",
       "147    3.33\n",
       "148    0.92\n",
       "152    0.02\n",
       "153    0.02\n",
       "Name: z_rel, Length: 92, dtype: float64"
      ]
     },
     "execution_count": 33,
     "metadata": {},
     "output_type": "execute_result"
    }
   ],
   "source": [
    "df1['z_rel'].apply(lambda x: x-10.0)"
   ]
  },
  {
   "cell_type": "code",
   "execution_count": 34,
   "metadata": {},
   "outputs": [
    {
     "data": {
      "text/plain": [
       "10.019999999999982"
      ]
     },
     "execution_count": 34,
     "metadata": {},
     "output_type": "execute_result"
    }
   ],
   "source": [
    "df1['z_rel'].min()"
   ]
  }
 ],
 "metadata": {
  "kernelspec": {
   "display_name": "Python 3",
   "language": "python",
   "name": "python3"
  },
  "language_info": {
   "codemirror_mode": {
    "name": "ipython",
    "version": 3
   },
   "file_extension": ".py",
   "mimetype": "text/x-python",
   "name": "python",
   "nbconvert_exporter": "python",
   "pygments_lexer": "ipython3",
   "version": "3.6.1"
  }
 },
 "nbformat": 4,
 "nbformat_minor": 2
}
